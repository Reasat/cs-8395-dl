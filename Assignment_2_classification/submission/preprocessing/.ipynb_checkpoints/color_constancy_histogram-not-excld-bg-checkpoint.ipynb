{
 "cells": [
  {
   "cell_type": "code",
   "execution_count": 17,
   "metadata": {},
   "outputs": [],
   "source": [
    "import skimage.io as io\n",
    "import matplotlib.pyplot as plt\n",
    "import numpy as np\n",
    "from skimage import color\n",
    "from PIL import Image\n",
    "import os\n",
    "import math\n",
    "from tqdm import tqdm_notebook\n",
    "from glob import glob"
   ]
  },
  {
   "cell_type": "code",
   "execution_count": 18,
   "metadata": {},
   "outputs": [],
   "source": [
    "def plot_channel(img):\n",
    "    n_channel = img.shape[-1]\n",
    "    fig, ax = plt.subplots(1, n_channel+1)\n",
    "    fig.set_figheight(20)\n",
    "    fig.set_figwidth(20)\n",
    "    ax[0].imshow(img)\n",
    "    for i in range(n_channel):\n",
    "        ax[i+1].imshow(img[:,:,i],cmap='gray')\n",
    "    return fig, ax\n",
    "\n",
    "def plot_hist(img, remove=None,num_bins=None):\n",
    "    n_channel = img.shape[-1]\n",
    "    if num_bins is None:\n",
    "        num_bins = np.ones([n_channel],dtype=np.uint8)*100\n",
    "    if type(num_bins) is int:\n",
    "        num_bins = np.ones([n_channel],dtype=np.uint8)*num_bins\n",
    "    plt.figure(figsize=(20,4))\n",
    "    for i in range(n_channel):\n",
    "        x = img[:,:,i].reshape(-1)\n",
    "        if remove is not None:\n",
    "            if type(remove) is int:\n",
    "                x=x[x!=remove]\n",
    "            else:\n",
    "                x=x[x!=remove[i]]\n",
    "        plt.subplot(1,n_channel,i+1)\n",
    "        n, bins, patches = plt.hist(x, num_bins[i], facecolor='blue', alpha=0.5)\n",
    "        plt.title('Mean: {:.2f}'.format(x.mean()))\n",
    "    plt.show()\n",
    "def color_constancy(img,verbose=True,preserve_range=True):\n",
    "    e = np.zeros([3])\n",
    "    for i in range(3):\n",
    "        x = img[:,:,i]\n",
    "        x=x[x!=0]\n",
    "        e[i]=x.mean()\n",
    "    print('channel means',e)\n",
    "    e=e/math.sqrt(sum(e*e))\n",
    "    print('illumination estimate',e)\n",
    "    d=1/(math.sqrt(3)*e)\n",
    "    print('correction coefficient',d)\n",
    "#     print(d)\n",
    "    img_t= img*d\n",
    "    for i in range(3):\n",
    "        print('transformed image channel {} max\\min: {}\\{}'.format(\n",
    "            i+1,img_t[:,:,i].max(),img_t[:,:,i].min()))\n",
    "    if preserve_range:\n",
    "        print('setting values above 255 to 255')\n",
    "        img_t=img_t.flatten()\n",
    "        img_t[img_t>255]=255\n",
    "        img_t=img_t.reshape(img.shape)\n",
    "    return img_t\n",
    "\n",
    "def hist_comp(img1,img2,labels=['img_1','img_2']):\n",
    "    n_channel = img_1.shape[-1]\n",
    "    remove=0\n",
    "    num_bins = np.ones([n_channel],dtype=np.uint8)*100\n",
    "    if type(num_bins) is int:\n",
    "        num_bins = np.ones([n_channel],dtype=np.uint8)*num_bins\n",
    "    plt.figure(figsize=(20,4))\n",
    "    # plt.subplot(1,n_channel)\n",
    "    for i in range(n_channel):\n",
    "        title=''\n",
    "        for img,face_color,label in zip([img1,img2],['blue','red'],labels):\n",
    "            x = img[:,:,i].reshape(-1)\n",
    "            if remove is not None:\n",
    "                if type(remove) is int:\n",
    "                    x=x[x!=remove]\n",
    "                else:\n",
    "                    x=x[x!=remove[i]]\n",
    "            title+='{}: {:.2f} '.format(label,x.mean())\n",
    "            plt.subplot(1,n_channel,i+1)\n",
    "            n, bins, patches = plt.hist(x, num_bins[i], facecolor=face_color, label=label, alpha=0.5)\n",
    "        plt.title(title)\n",
    "        plt.legend()\n",
    "    plt.show()"
   ]
  },
  {
   "cell_type": "code",
   "execution_count": 19,
   "metadata": {},
   "outputs": [
    {
     "name": "stdout",
     "output_type": "stream",
     "text": [
      "9015\n"
     ]
    }
   ],
   "source": [
    "dir_src = r'D:\\Data\\cs-8395-dl\\assignment2_data\\train'\n",
    "dir_src_gw = r'D:\\Data\\cs-8395-dl\\assignment2_data_cc-gw\\train'\n",
    "\n",
    "filepaths_src_all=glob(os.path.join(dir_src,'*jpg'))\n",
    "print(len(filepaths_src_all))"
   ]
  },
  {
   "cell_type": "code",
   "execution_count": null,
   "metadata": {},
   "outputs": [
    {
     "data": {
      "application/vnd.jupyter.widget-view+json": {
       "model_id": "0045733995ec407f976a7ca9e1c71850",
       "version_major": 2,
       "version_minor": 0
      },
      "text/plain": [
       "HBox(children=(IntProgress(value=0, max=9015), HTML(value='')))"
      ]
     },
     "metadata": {},
     "output_type": "display_data"
    }
   ],
   "source": [
    "ch_cat_src=[[],[],[]]\n",
    "ch_cat_src_gw=[[],[],[]]\n",
    "for path_src in tqdm_notebook(filepaths_src_all):\n",
    "    path_src_gw = path_src.replace(dir_src,dir_src_gw)\n",
    "    img_source = io.imread(path_src)   \n",
    "    img_source_gw = io.imread(path_src_gw)   \n",
    "    for i in range(3):\n",
    "        ch_cat_src[i]+=list(img_source[:,:,i].flatten())\n",
    "        ch_cat_src_gw[i]+=list(img_source_gw[:,:,i].flatten())"
   ]
  },
  {
   "cell_type": "code",
   "execution_count": null,
   "metadata": {},
   "outputs": [],
   "source": [
    "labels =['org', 'cc-gw']\n",
    "remove=0\n",
    "n_channel=3\n",
    "plt.figure(figsize=(20,4))\n",
    "for i in range(n_channel):\n",
    "    title=''\n",
    "    num_bins = np.ones([n_channel],dtype=np.uint8)*100\n",
    "    for x,face_color,label in zip([ch_cat_src[i],ch_cat_src_gw[i]],['blue','red'],labels):\n",
    "        x=np.array(x)\n",
    "#         print(sum(x))\n",
    "        if remove is not None:\n",
    "            if type(remove) is int:\n",
    "                x=x[x!=remove]\n",
    "            else:\n",
    "                x=x[x!=remove[i]]\n",
    "#         print(x[:5])\n",
    "        title+='{}: {:.2f} '.format(label,x.mean())\n",
    "        plt.subplot(1,n_channel,i+1)\n",
    "        n, bins, patches = plt.hist(x, num_bins[i], facecolor=face_color, label=label, alpha=0.5)\n",
    "    plt.title(title)\n",
    "    plt.legend()\n",
    "plt.show()"
   ]
  },
  {
   "cell_type": "code",
   "execution_count": null,
   "metadata": {},
   "outputs": [],
   "source": []
  }
 ],
 "metadata": {
  "kernelspec": {
   "display_name": "Python 3",
   "language": "python",
   "name": "python3"
  },
  "language_info": {
   "codemirror_mode": {
    "name": "ipython",
    "version": 3
   },
   "file_extension": ".py",
   "mimetype": "text/x-python",
   "name": "python",
   "nbconvert_exporter": "python",
   "pygments_lexer": "ipython3",
   "version": "3.7.0"
  }
 },
 "nbformat": 4,
 "nbformat_minor": 2
}
