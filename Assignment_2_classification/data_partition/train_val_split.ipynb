{
 "cells": [
  {
   "cell_type": "code",
   "execution_count": 8,
   "metadata": {},
   "outputs": [],
   "source": [
    "import os\n",
    "import numpy as np\n",
    "import matplotlib.pyplot as plt\n",
    "import pandas as pd\n",
    "from skimage import io\n",
    "from sklearn.model_selection import train_test_split"
   ]
  },
  {
   "cell_type": "code",
   "execution_count": 9,
   "metadata": {},
   "outputs": [],
   "source": [
    "dir_data = r'D:\\Data\\cs-8395-dl\\assignment2_data'\n",
    "dir_data_train = os.path.join(dir_data,'train')\n",
    "dir_data_test = os.path.join(dir_data,'test')"
   ]
  },
  {
   "cell_type": "code",
   "execution_count": 10,
   "metadata": {},
   "outputs": [],
   "source": [
    "path_label_train = r'D:\\Data\\cs-8395-dl\\assignment2_data\\labels\\Train_labels.csv'\n",
    "path_label_test = r'D:\\Data\\cs-8395-dl\\assignment2_data\\labels\\Test_labels.csv'"
   ]
  },
  {
   "cell_type": "code",
   "execution_count": 11,
   "metadata": {},
   "outputs": [
    {
     "name": "stdout",
     "output_type": "stream",
     "text": [
      "(9015, 8)\n"
     ]
    },
    {
     "data": {
      "text/html": [
       "<div>\n",
       "<style scoped>\n",
       "    .dataframe tbody tr th:only-of-type {\n",
       "        vertical-align: middle;\n",
       "    }\n",
       "\n",
       "    .dataframe tbody tr th {\n",
       "        vertical-align: top;\n",
       "    }\n",
       "\n",
       "    .dataframe thead th {\n",
       "        text-align: right;\n",
       "    }\n",
       "</style>\n",
       "<table border=\"1\" class=\"dataframe\">\n",
       "  <thead>\n",
       "    <tr style=\"text-align: right;\">\n",
       "      <th></th>\n",
       "      <th>image</th>\n",
       "      <th>MEL</th>\n",
       "      <th>NV</th>\n",
       "      <th>BCC</th>\n",
       "      <th>AKIEC</th>\n",
       "      <th>BKL</th>\n",
       "      <th>DF</th>\n",
       "      <th>VASC</th>\n",
       "    </tr>\n",
       "  </thead>\n",
       "  <tbody>\n",
       "    <tr>\n",
       "      <th>0</th>\n",
       "      <td>ISIC_0024306</td>\n",
       "      <td>0</td>\n",
       "      <td>1</td>\n",
       "      <td>0</td>\n",
       "      <td>0</td>\n",
       "      <td>0</td>\n",
       "      <td>0</td>\n",
       "      <td>0</td>\n",
       "    </tr>\n",
       "    <tr>\n",
       "      <th>1</th>\n",
       "      <td>ISIC_0024307</td>\n",
       "      <td>0</td>\n",
       "      <td>1</td>\n",
       "      <td>0</td>\n",
       "      <td>0</td>\n",
       "      <td>0</td>\n",
       "      <td>0</td>\n",
       "      <td>0</td>\n",
       "    </tr>\n",
       "    <tr>\n",
       "      <th>2</th>\n",
       "      <td>ISIC_0024308</td>\n",
       "      <td>0</td>\n",
       "      <td>1</td>\n",
       "      <td>0</td>\n",
       "      <td>0</td>\n",
       "      <td>0</td>\n",
       "      <td>0</td>\n",
       "      <td>0</td>\n",
       "    </tr>\n",
       "    <tr>\n",
       "      <th>3</th>\n",
       "      <td>ISIC_0024309</td>\n",
       "      <td>0</td>\n",
       "      <td>1</td>\n",
       "      <td>0</td>\n",
       "      <td>0</td>\n",
       "      <td>0</td>\n",
       "      <td>0</td>\n",
       "      <td>0</td>\n",
       "    </tr>\n",
       "    <tr>\n",
       "      <th>4</th>\n",
       "      <td>ISIC_0024310</td>\n",
       "      <td>1</td>\n",
       "      <td>0</td>\n",
       "      <td>0</td>\n",
       "      <td>0</td>\n",
       "      <td>0</td>\n",
       "      <td>0</td>\n",
       "      <td>0</td>\n",
       "    </tr>\n",
       "  </tbody>\n",
       "</table>\n",
       "</div>"
      ],
      "text/plain": [
       "          image  MEL  NV  BCC  AKIEC  BKL  DF  VASC\n",
       "0  ISIC_0024306    0   1    0      0    0   0     0\n",
       "1  ISIC_0024307    0   1    0      0    0   0     0\n",
       "2  ISIC_0024308    0   1    0      0    0   0     0\n",
       "3  ISIC_0024309    0   1    0      0    0   0     0\n",
       "4  ISIC_0024310    1   0    0      0    0   0     0"
      ]
     },
     "execution_count": 11,
     "metadata": {},
     "output_type": "execute_result"
    }
   ],
   "source": [
    "df_train = pd.read_csv(path_label_train)\n",
    "print(df_train.shape)\n",
    "# df_train.set_index('image',inplace=True)\n",
    "df_train.head()"
   ]
  },
  {
   "cell_type": "code",
   "execution_count": 23,
   "metadata": {},
   "outputs": [
    {
     "name": "stdout",
     "output_type": "stream",
     "text": [
      "MEL, count: 887, 0.10%\n",
      "NV, count: 6130, 0.68%\n",
      "BCC, count: 480, 0.05%\n",
      "AKIEC, count: 317, 0.04%\n",
      "BKL, count: 972, 0.11%\n",
      "DF, count: 101, 0.01%\n",
      "VASC, count: 128, 0.01%\n"
     ]
    }
   ],
   "source": [
    "for col in df_train.columns[1:]:\n",
    "    df_gb = df_train.groupby(col)\n",
    "    df_pos=df_gb.get_group(1)\n",
    "    count = len(df_pos)\n",
    "    prcntg = count/df_train.shape[0]\n",
    "    print('{}, count: {}, {:.2f}%'.format(col,count,prcntg))"
   ]
  },
  {
   "cell_type": "code",
   "execution_count": 27,
   "metadata": {},
   "outputs": [],
   "source": [
    "X = df_train.index.values\n",
    "y = [np.argmax(df_train.iloc[i][df_train.columns[1:]].values) for i in X]"
   ]
  },
  {
   "cell_type": "code",
   "execution_count": 31,
   "metadata": {},
   "outputs": [
    {
     "data": {
      "text/plain": [
       "[1, 1, 1, 1, 0, 1, 4, 0, 1, 0]"
      ]
     },
     "execution_count": 31,
     "metadata": {},
     "output_type": "execute_result"
    }
   ],
   "source": [
    "y[:10]"
   ]
  },
  {
   "cell_type": "code",
   "execution_count": 33,
   "metadata": {},
   "outputs": [],
   "source": [
    "X_train, X_test, y_train, y_test = train_test_split(X, y, \n",
    "                                                    test_size=0.33, \n",
    "                                                    stratify = y,\n",
    "                                                    random_state=42)"
   ]
  },
  {
   "cell_type": "code",
   "execution_count": 34,
   "metadata": {},
   "outputs": [
    {
     "data": {
      "text/plain": [
       "array([8245,  462, 2657], dtype=int64)"
      ]
     },
     "execution_count": 34,
     "metadata": {},
     "output_type": "execute_result"
    }
   ],
   "source": [
    "X_train[:3]"
   ]
  },
  {
   "cell_type": "code",
   "execution_count": 38,
   "metadata": {},
   "outputs": [
    {
     "data": {
      "text/plain": [
       "(6040, 8)"
      ]
     },
     "execution_count": 38,
     "metadata": {},
     "output_type": "execute_result"
    }
   ],
   "source": [
    "df_train_split = df_train.iloc[X_train]\n",
    "df_train_split.shape"
   ]
  },
  {
   "cell_type": "code",
   "execution_count": 39,
   "metadata": {},
   "outputs": [
    {
     "data": {
      "text/plain": [
       "(2975, 8)"
      ]
     },
     "execution_count": 39,
     "metadata": {},
     "output_type": "execute_result"
    }
   ],
   "source": [
    "df_valid_split = df_train.iloc[X_test]\n",
    "df_valid_split.shape"
   ]
  },
  {
   "cell_type": "code",
   "execution_count": 40,
   "metadata": {},
   "outputs": [
    {
     "name": "stdout",
     "output_type": "stream",
     "text": [
      "MEL, count: 594, 0.10%\n",
      "NV, count: 4107, 0.68%\n",
      "BCC, count: 322, 0.05%\n",
      "AKIEC, count: 212, 0.04%\n",
      "BKL, count: 651, 0.11%\n",
      "DF, count: 68, 0.01%\n",
      "VASC, count: 86, 0.01%\n"
     ]
    }
   ],
   "source": [
    "for col in df_train_split.columns[1:]:\n",
    "    df_gb = df_train_split.groupby(col)\n",
    "    df_pos=df_gb.get_group(1)\n",
    "    count = len(df_pos)\n",
    "    prcntg = count/df_train_split.shape[0]\n",
    "    print('{}, count: {}, {:.2f}%'.format(col,count,prcntg))"
   ]
  },
  {
   "cell_type": "code",
   "execution_count": 41,
   "metadata": {},
   "outputs": [
    {
     "name": "stdout",
     "output_type": "stream",
     "text": [
      "MEL, count: 293, 0.10%\n",
      "NV, count: 2023, 0.68%\n",
      "BCC, count: 158, 0.05%\n",
      "AKIEC, count: 105, 0.04%\n",
      "BKL, count: 321, 0.11%\n",
      "DF, count: 33, 0.01%\n",
      "VASC, count: 42, 0.01%\n"
     ]
    }
   ],
   "source": [
    "for col in df_valid_split.columns[1:]:\n",
    "    df_gb = df_valid_split.groupby(col)\n",
    "    df_pos=df_gb.get_group(1)\n",
    "    count = len(df_pos)\n",
    "    prcntg = count/df_valid_split.shape[0]\n",
    "    print('{}, count: {}, {:.2f}%'.format(col,count,prcntg))"
   ]
  },
  {
   "cell_type": "code",
   "execution_count": 42,
   "metadata": {},
   "outputs": [],
   "source": [
    "path_label_train_split = r'D:\\Data\\cs-8395-dl\\assignment2_data\\labels\\train.csv'\n",
    "path_label_valid_split = r'D:\\Data\\cs-8395-dl\\assignment2_data\\labels\\valid.csv'"
   ]
  },
  {
   "cell_type": "code",
   "execution_count": 43,
   "metadata": {},
   "outputs": [],
   "source": [
    "df_train_split.to_csv(path_label_train_split,index=False)"
   ]
  },
  {
   "cell_type": "code",
   "execution_count": 44,
   "metadata": {},
   "outputs": [],
   "source": [
    "df_valid_split.to_csv(path_label_valid_split,index=False)"
   ]
  },
  {
   "cell_type": "code",
   "execution_count": null,
   "metadata": {},
   "outputs": [],
   "source": []
  }
 ],
 "metadata": {
  "kernelspec": {
   "display_name": "Python 3",
   "language": "python",
   "name": "python3"
  },
  "language_info": {
   "codemirror_mode": {
    "name": "ipython",
    "version": 3
   },
   "file_extension": ".py",
   "mimetype": "text/x-python",
   "name": "python",
   "nbconvert_exporter": "python",
   "pygments_lexer": "ipython3",
   "version": "3.7.0"
  }
 },
 "nbformat": 4,
 "nbformat_minor": 2
}
