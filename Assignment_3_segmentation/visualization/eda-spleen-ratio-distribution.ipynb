{
 "cells": [
  {
   "cell_type": "code",
   "execution_count": 20,
   "metadata": {},
   "outputs": [],
   "source": [
    "import nibabel as nib\n",
    "import numpy as np\n",
    "import matplotlib.pyplot as plt\n",
    "from skimage.filters import roberts"
   ]
  },
  {
   "cell_type": "code",
   "execution_count": 21,
   "metadata": {},
   "outputs": [],
   "source": [
    "path_partition=r'D:\\Projects\\cs-8395-dl\\Assignment_3_segmentation\\partition\\train_test_org\\Training.txt'\n",
    "with open(path_partition,'r') as f:\n",
    "    fileIds = [fl.strip() for fl in f.readlines() ]"
   ]
  },
  {
   "cell_type": "code",
   "execution_count": 22,
   "metadata": {},
   "outputs": [],
   "source": [
    "ratio=[]\n",
    "for fileId in fileIds:\n",
    "#     filepath_img = r'D:\\Data\\cs-8395-dl\\assignment3\\Training\\img\\img{}.nii.gz'.format(\n",
    "#         fileId)\n",
    "    filepath_label = r'D:\\Data\\cs-8395-dl\\assignment3\\Training\\label\\label{}.nii.gz'.format(\n",
    "        fileId)\n",
    "    label_nib = nib.load(filepath_label)\n",
    "    label_np =label_nib.get_fdata()\n",
    "    ratio.append((label_np==1).sum()/label_np.size*100)"
   ]
  },
  {
   "cell_type": "code",
   "execution_count": 23,
   "metadata": {},
   "outputs": [
    {
     "data": {
      "text/plain": [
       "Text(0.5, 0, 'Patient')"
      ]
     },
     "execution_count": 23,
     "metadata": {},
     "output_type": "execute_result"
    },
    {
     "data": {
      "image/png": "[encoded data removed]",
      "text/plain": [
       "<Figure size 432x288 with 1 Axes>"
      ]
     },
     "metadata": {
      "needs_background": "light"
     },
     "output_type": "display_data"
    }
   ],
   "source": [
    "plt.bar(fileIds,ratio)\n",
    "plt.xticks(rotation = 90)\n",
    "plt.ylabel('Normalized Spleen Volume (%)',fontsize=15)\n",
    "plt.xlabel('Patient',fontsize=15)"
   ]
  },
  {
   "cell_type": "code",
   "execution_count": null,
   "metadata": {},
   "outputs": [],
   "source": []
  }
 ],
 "metadata": {
  "kernelspec": {
   "display_name": "Python 3",
   "language": "python",
   "name": "python3"
  },
  "language_info": {
   "codemirror_mode": {
    "name": "ipython",
    "version": 3
   },
   "file_extension": ".py",
   "mimetype": "text/x-python",
   "name": "python",
   "nbconvert_exporter": "python",
   "pygments_lexer": "ipython3",
   "version": "3.7.0"
  }
 },
 "nbformat": 4,
 "nbformat_minor": 2
}
