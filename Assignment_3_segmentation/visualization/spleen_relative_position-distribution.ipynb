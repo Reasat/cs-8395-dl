{
 "cells": [
  {
   "cell_type": "code",
   "execution_count": 1,
   "metadata": {},
   "outputs": [],
   "source": [
    "import nibabel as nib\n",
    "import numpy as np\n",
    "import matplotlib.pyplot as plt\n",
    "from skimage.filters import roberts\n",
    "from tqdm import tqdm_notebook as tqdm"
   ]
  },
  {
   "cell_type": "code",
   "execution_count": 2,
   "metadata": {},
   "outputs": [],
   "source": [
    "path_partition=r'D:\\Projects\\cs-8395-dl\\Assignment_3_segmentation\\partition\\train_test_org\\Training.txt'\n",
    "with open(path_partition,'r') as f:\n",
    "    fileIds = [fl.strip() for fl in f.readlines() ]"
   ]
  },
  {
   "cell_type": "code",
   "execution_count": 3,
   "metadata": {},
   "outputs": [],
   "source": [
    "def extract_spleen_coord(label_np):\n",
    "    # starting edge\n",
    "    coord_start = [0, 0, 0]\n",
    "    # ending edge\n",
    "    coord_end = [0, 0, 0]\n",
    "    OFFSET = 2\n",
    "\n",
    "    for i in range(0, label_np.shape[0], OFFSET):\n",
    "        if np.sum(label_np[i:i + OFFSET, :, :] == 1):\n",
    "            coord_start[0] = i\n",
    "            break\n",
    "    for i in range(0, label_np.shape[1], OFFSET):\n",
    "        if np.sum(label_np[:, i:i + OFFSET, :] == 1):\n",
    "            coord_start[1] = i\n",
    "            break\n",
    "    for i in range(0, label_np.shape[2], OFFSET):\n",
    "        if np.sum(label_np[:, :, i:i + OFFSET] == 1):\n",
    "            coord_start[2] = i\n",
    "            break\n",
    "    for i in range(coord_start[0], label_np.shape[0], OFFSET):\n",
    "        if np.sum(label_np[i:i + OFFSET, :, :] == 1) == 0:\n",
    "            coord_end[0] = i\n",
    "            break\n",
    "    for i in range(coord_start[1], label_np.shape[1], OFFSET):\n",
    "        if np.sum(label_np[:, i:i + OFFSET, :] == 1) == 0:\n",
    "            coord_end[1] = i\n",
    "            break\n",
    "    for i in range(coord_start[2], label_np.shape[2], OFFSET):\n",
    "        if np.sum(label_np[:, :, i:i + OFFSET] == 1) == 0:\n",
    "            coord_end[2] = i\n",
    "            break\n",
    "    return [(x1,x2) for x1,x2 in zip(coord_start,coord_end)]\n",
    "\n",
    "def extract_spleen(img,label):\n",
    "    coords = extract_spleen_coord(label)\n",
    "    # print(coords)\n",
    "    return (img[coords[0][0]:coords[0][1]],\n",
    "            label[coords[0][0]:coords[0][1]])\n"
   ]
  },
  {
   "cell_type": "code",
   "execution_count": 9,
   "metadata": {},
   "outputs": [
    {
     "data": {
      "application/vnd.jupyter.widget-view+json": {
       "model_id": "6213077d3a40437e9f233b7c02327d2b",
       "version_major": 2,
       "version_minor": 0
      },
      "text/plain": [
       "HBox(children=(IntProgress(value=0, max=30), HTML(value='')))"
      ]
     },
     "metadata": {},
     "output_type": "display_data"
    },
    {
     "name": "stdout",
     "output_type": "stream",
     "text": [
      "0001 relative z starting position 0.72, ending position 0.97\n",
      "0002 relative z starting position 0.75, ending position 0.91\n",
      "0003 relative z starting position 0.62, ending position 0.80\n",
      "0004 relative z starting position 0.71, ending position 0.94\n",
      "0005 relative z starting position 0.32, ending position 0.70\n",
      "0006 relative z starting position 0.76, ending position 0.92\n",
      "0007 relative z starting position 0.59, ending position 0.85\n",
      "0008 relative z starting position 0.72, ending position 0.91\n",
      "0009 relative z starting position 0.20, ending position 0.91\n",
      "0010 relative z starting position 0.72, ending position 0.88\n",
      "0021 relative z starting position 0.71, ending position 0.87\n",
      "0022 relative z starting position 0.63, ending position 0.92\n",
      "0023 relative z starting position 0.71, ending position 0.90\n",
      "0024 relative z starting position 0.73, ending position 0.92\n",
      "0025 relative z starting position 0.66, ending position 0.87\n",
      "0026 relative z starting position 0.50, ending position 0.64\n",
      "0027 relative z starting position 0.61, ending position 0.84\n",
      "0028 relative z starting position 0.70, ending position 0.90\n",
      "0029 relative z starting position 0.60, ending position 0.88\n",
      "0030 relative z starting position 0.67, ending position 0.92\n",
      "0031 relative z starting position 0.43, ending position 0.82\n",
      "0032 relative z starting position 0.68, ending position 0.90\n",
      "0033 relative z starting position 0.60, ending position 0.81\n",
      "0034 relative z starting position 0.63, ending position 0.88\n",
      "0035 relative z starting position 0.68, ending position 0.94\n",
      "0036 relative z starting position 0.67, ending position 0.88\n",
      "0037 relative z starting position 0.65, ending position 0.85\n",
      "0038 relative z starting position 0.68, ending position 0.92\n",
      "0039 relative z starting position 0.71, ending position 0.96\n",
      "0040 relative z starting position 0.49, ending position 0.65\n",
      "\n"
     ]
    }
   ],
   "source": [
    "spleen_pixels=[]\n",
    "for fileId in tqdm(fileIds):\n",
    "    filepath_img = r'D:\\Data\\cs-8395-dl\\assignment3\\Training\\img\\img{}.nii.gz'.format(\n",
    "        fileId)\n",
    "#     img_nib = nib.load(filepath_img)\n",
    "#     img_np =img_nib.get_fdata()\n",
    "    filepath_label = r'D:\\Data\\cs-8395-dl\\assignment3\\Training\\label\\label{}.nii.gz'.format(fileId)\n",
    "    label_nib = nib.load(filepath_label)\n",
    "    label_np = label_nib.get_fdata()\n",
    "    x,y,z=extract_spleen_coord(label_np)\n",
    "    print('{} relative z starting position {:.2f}, ending position {:.2f}'.format(\n",
    "        fileId,\n",
    "        z[0]/label_np.shape[2],\n",
    "        z[1]/label_np.shape[2]))"
   ]
  },
  {
   "cell_type": "code",
   "execution_count": 11,
   "metadata": {},
   "outputs": [
    {
     "data": {
      "application/vnd.jupyter.widget-view+json": {
       "model_id": "f27f4b2516604419b9bc793fc8bee637",
       "version_major": 2,
       "version_minor": 0
      },
      "text/plain": [
       "HBox(children=(IntProgress(value=0, max=30), HTML(value='')))"
      ]
     },
     "metadata": {},
     "output_type": "display_data"
    },
    {
     "name": "stdout",
     "output_type": "stream",
     "text": [
      "0001 relative x starting position 0.57, ending position 0.90\n",
      "0002 relative x starting position 0.60, ending position 0.84\n",
      "0003 relative x starting position 0.63, ending position 0.85\n",
      "0004 relative x starting position 0.63, ending position 0.88\n",
      "0005 relative x starting position 0.59, ending position 0.83\n",
      "0006 relative x starting position 0.59, ending position 0.86\n",
      "0007 relative x starting position 0.64, ending position 0.89\n",
      "0008 relative x starting position 0.57, ending position 0.86\n",
      "0009 relative x starting position 0.52, ending position 0.84\n",
      "0010 relative x starting position 0.64, ending position 0.84\n",
      "0021 relative x starting position 0.62, ending position 0.85\n",
      "0022 relative x starting position 0.57, ending position 0.82\n",
      "0023 relative x starting position 0.60, ending position 0.88\n",
      "0024 relative x starting position 0.65, ending position 0.91\n",
      "0025 relative x starting position 0.60, ending position 0.83\n",
      "0026 relative x starting position 0.68, ending position 0.88\n",
      "0027 relative x starting position 0.60, ending position 0.89\n",
      "0028 relative x starting position 0.57, ending position 0.82\n",
      "0029 relative x starting position 0.57, ending position 0.76\n",
      "0030 relative x starting position 0.58, ending position 0.89\n",
      "0031 relative x starting position 0.59, ending position 0.84\n",
      "0032 relative x starting position 0.62, ending position 0.84\n",
      "0033 relative x starting position 0.65, ending position 0.88\n",
      "0034 relative x starting position 0.66, ending position 0.96\n",
      "0035 relative x starting position 0.58, ending position 0.79\n",
      "0036 relative x starting position 0.61, ending position 0.93\n",
      "0037 relative x starting position 0.60, ending position 0.88\n",
      "0038 relative x starting position 0.57, ending position 0.83\n",
      "0039 relative x starting position 0.59, ending position 0.81\n",
      "0040 relative x starting position 0.62, ending position 0.86\n",
      "\n"
     ]
    }
   ],
   "source": [
    "for fileId in tqdm(fileIds):\n",
    "    filepath_img = r'D:\\Data\\cs-8395-dl\\assignment3\\Training\\img\\img{}.nii.gz'.format(\n",
    "        fileId)\n",
    "#     img_nib = nib.load(filepath_img)\n",
    "#     img_np =img_nib.get_fdata()\n",
    "    filepath_label = r'D:\\Data\\cs-8395-dl\\assignment3\\Training\\label\\label{}.nii.gz'.format(fileId)\n",
    "    label_nib = nib.load(filepath_label)\n",
    "    label_np = label_nib.get_fdata()\n",
    "    x,y,z=extract_spleen_coord(label_np)\n",
    "    print('{} relative x starting position {:.2f}, ending position {:.2f}'.format(\n",
    "        fileId,\n",
    "        x[0]/label_np.shape[0],\n",
    "        x[1]/label_np.shape[0]))"
   ]
  },
  {
   "cell_type": "code",
   "execution_count": 12,
   "metadata": {},
   "outputs": [
    {
     "data": {
      "application/vnd.jupyter.widget-view+json": {
       "model_id": "ee0758fcadea4036b96f5da000a806bb",
       "version_major": 2,
       "version_minor": 0
      },
      "text/plain": [
       "HBox(children=(IntProgress(value=0, max=30), HTML(value='')))"
      ]
     },
     "metadata": {},
     "output_type": "display_data"
    },
    {
     "name": "stdout",
     "output_type": "stream",
     "text": [
      "0001 relative y starting position 0.21, ending position 0.46\n",
      "0002 relative y starting position 0.34, ending position 0.60\n",
      "0003 relative y starting position 0.25, ending position 0.49\n",
      "0004 relative y starting position 0.26, ending position 0.51\n",
      "0005 relative y starting position 0.28, ending position 0.50\n",
      "0006 relative y starting position 0.17, ending position 0.32\n",
      "0007 relative y starting position 0.26, ending position 0.53\n",
      "0008 relative y starting position 0.36, ending position 0.63\n",
      "0009 relative y starting position 0.23, ending position 0.70\n",
      "0010 relative y starting position 0.25, ending position 0.39\n",
      "0021 relative y starting position 0.33, ending position 0.55\n",
      "0022 relative y starting position 0.36, ending position 0.66\n",
      "0023 relative y starting position 0.27, ending position 0.51\n",
      "0024 relative y starting position 0.28, ending position 0.58\n",
      "0025 relative y starting position 0.30, ending position 0.52\n",
      "0026 relative y starting position 0.34, ending position 0.55\n",
      "0027 relative y starting position 0.31, ending position 0.52\n",
      "0028 relative y starting position 0.20, ending position 0.34\n",
      "0029 relative y starting position 0.35, ending position 0.58\n",
      "0030 relative y starting position 0.25, ending position 0.55\n",
      "0031 relative y starting position 0.24, ending position 0.50\n",
      "0032 relative y starting position 0.30, ending position 0.50\n",
      "0033 relative y starting position 0.31, ending position 0.61\n",
      "0034 relative y starting position 0.30, ending position 0.62\n",
      "0035 relative y starting position 0.36, ending position 0.61\n",
      "0036 relative y starting position 0.23, ending position 0.49\n",
      "0037 relative y starting position 0.31, ending position 0.59\n",
      "0038 relative y starting position 0.30, ending position 0.59\n",
      "0039 relative y starting position 0.33, ending position 0.56\n",
      "0040 relative y starting position 0.27, ending position 0.45\n",
      "\n"
     ]
    }
   ],
   "source": [
    "for fileId in tqdm(fileIds):\n",
    "    filepath_img = r'D:\\Data\\cs-8395-dl\\assignment3\\Training\\img\\img{}.nii.gz'.format(\n",
    "        fileId)\n",
    "#     img_nib = nib.load(filepath_img)\n",
    "#     img_np =img_nib.get_fdata()\n",
    "    filepath_label = r'D:\\Data\\cs-8395-dl\\assignment3\\Training\\label\\label{}.nii.gz'.format(fileId)\n",
    "    label_nib = nib.load(filepath_label)\n",
    "    label_np = label_nib.get_fdata()\n",
    "    x,y,z=extract_spleen_coord(label_np)\n",
    "    print('{} relative y starting position {:.2f}, ending position {:.2f}'.format(\n",
    "        fileId,\n",
    "        y[0]/label_np.shape[1],\n",
    "        y[1]/label_np.shape[1]))"
   ]
  },
  {
   "cell_type": "code",
   "execution_count": null,
   "metadata": {},
   "outputs": [],
   "source": []
  }
 ],
 "metadata": {
  "kernelspec": {
   "display_name": "Python 3",
   "language": "python",
   "name": "python3"
  },
  "language_info": {
   "codemirror_mode": {
    "name": "ipython",
    "version": 3
   },
   "file_extension": ".py",
   "mimetype": "text/x-python",
   "name": "python",
   "nbconvert_exporter": "python",
   "pygments_lexer": "ipython3",
   "version": "3.7.0"
  }
 },
 "nbformat": 4,
 "nbformat_minor": 2
}
