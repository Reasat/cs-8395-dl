{
 "cells": [
  {
   "cell_type": "code",
   "execution_count": 1,
   "metadata": {},
   "outputs": [],
   "source": [
    "import nibabel as nib\n",
    "import numpy as np\n",
    "import matplotlib.pyplot as plt\n",
    "from skimage.filters import roberts\n",
    "from tqdm import tqdm_notebook as tqdm"
   ]
  },
  {
   "cell_type": "code",
   "execution_count": 2,
   "metadata": {},
   "outputs": [],
   "source": [
    "path_partition=r'D:\\Projects\\cs-8395-dl\\Assignment_3_segmentation\\partition\\train_test_org\\Training.txt'\n",
    "with open(path_partition,'r') as f:\n",
    "    fileIds = [fl.strip() for fl in f.readlines() ]"
   ]
  },
  {
   "cell_type": "code",
   "execution_count": 3,
   "metadata": {},
   "outputs": [],
   "source": [
    "def range_finder(label_np, label, offset=1):\n",
    "    start=None\n",
    "    end = None\n",
    "    for i in range(0, label_np.shape[0], offset):\n",
    "        if np.sum(label_np[i:i + offset, :, :] == label):\n",
    "            start = i\n",
    "            break\n",
    "    for i in range(start, label_np.shape[0], offset):\n",
    "        if np.sum(label_np[i:i + offset, :, :] == label) == 0:\n",
    "            end = i\n",
    "            break\n",
    "    return start,end\n",
    "def extract_spleen_coord(label_np,label = 1,offset=1):\n",
    "    # starting edge\n",
    "    coord_start = [0, 0, 0]\n",
    "    # ending edge\n",
    "    coord_end = [0, 0, 0]\n",
    "    coord_start[0], coord_end[0]=range_finder(label_np,label,offset)\n",
    "    coord_start[1], coord_end[1]=range_finder(label_np.transpose(1,0,2),label,offset)\n",
    "    coord_start[2], coord_end[2]=range_finder(label_np.transpose(2,1,0),label,offset)\n",
    "    \n",
    "    return [(x1,x2) for x1,x2 in zip(coord_start,coord_end)]\n",
    "\n",
    "def extract_spleen(img,label):\n",
    "    coords = extract_spleen_coord(label)\n",
    "    # print(coords)\n",
    "    return (img[coords[0][0]:coords[0][1]],\n",
    "            label[coords[0][0]:coords[0][1]])\n"
   ]
  },
  {
   "cell_type": "code",
   "execution_count": 4,
   "metadata": {
    "scrolled": false
   },
   "outputs": [
    {
     "data": {
      "application/vnd.jupyter.widget-view+json": {
       "model_id": "9e25fc2a61aa4689889053076093f253",
       "version_major": 2,
       "version_minor": 0
      },
      "text/plain": [
       "HBox(children=(IntProgress(value=0, max=30), HTML(value='')))"
      ]
     },
     "metadata": {},
     "output_type": "display_data"
    },
    {
     "name": "stdout",
     "output_type": "stream",
     "text": [
      "0001 spleen start-end in axial (z) direction 106-141\n",
      "0002 spleen start-end in axial (z) direction 105-126\n",
      "0003 spleen start-end in axial (z) direction 122-157\n",
      "0004 spleen start-end in axial (z) direction 101-131\n",
      "0005 spleen start-end in axial (z) direction 39-81\n",
      "0006 spleen start-end in axial (z) direction 100-120\n",
      "0007 spleen start-end in axial (z) direction 96-137\n",
      "0008 spleen start-end in axial (z) direction 107-134\n",
      "0009 spleen start-end in axial (z) direction 30-136\n",
      "0010 spleen start-end in axial (z) direction 106-129\n",
      "0021 spleen start-end in axial (z) direction 103-124\n",
      "0022 spleen start-end in axial (z) direction 57-82\n",
      "0023 spleen start-end in axial (z) direction 68-86\n",
      "0024 spleen start-end in axial (z) direction 90-114\n",
      "0025 spleen start-end in axial (z) direction 57-73\n",
      "0026 spleen start-end in axial (z) direction 66-83\n",
      "0027 spleen start-end in axial (z) direction 55-74\n",
      "0028 spleen start-end in axial (z) direction 62-79\n",
      "0029 spleen start-end in axial (z) direction 60-88\n",
      "0030 spleen start-end in axial (z) direction 103-139\n",
      "0031 spleen start-end in axial (z) direction 40-76\n",
      "0032 spleen start-end in axial (z) direction 98-130\n",
      "0033 spleen start-end in axial (z) direction 63-84\n",
      "0034 spleen start-end in axial (z) direction 63-86\n",
      "0035 spleen start-end in axial (z) direction 64-88\n",
      "0036 spleen start-end in axial (z) direction 125-162\n",
      "0037 spleen start-end in axial (z) direction 64-83\n",
      "0038 spleen start-end in axial (z) direction 69-91\n",
      "0039 spleen start-end in axial (z) direction 65-86\n",
      "0040 spleen start-end in axial (z) direction 97-125\n",
      "\n"
     ]
    }
   ],
   "source": [
    "for fileId in tqdm(fileIds):\n",
    "    filepath_img = r'D:\\Data\\cs-8395-dl\\assignment3\\Training\\img\\img{}.nii.gz'.format(\n",
    "        fileId)\n",
    "#     img_nib = nib.load(filepath_img)\n",
    "#     img_np =img_nib.get_fdata()\n",
    "    filepath_label = r'D:\\Data\\cs-8395-dl\\assignment3\\Training\\label\\label{}.nii.gz'.format(fileId)\n",
    "    label_nib = nib.load(filepath_label)\n",
    "    label_np = label_nib.get_fdata()\n",
    "    x,y,z=extract_spleen_coord(label_np)\n",
    "    print('{} spleen start-end in axial (z) direction {}-{}'.format(\n",
    "        fileId,\n",
    "        z[0],z[1]\n",
    "    ))"
   ]
  },
  {
   "cell_type": "code",
   "execution_count": null,
   "metadata": {},
   "outputs": [],
   "source": []
  }
 ],
 "metadata": {
  "kernelspec": {
   "display_name": "Python 3",
   "language": "python",
   "name": "python3"
  },
  "language_info": {
   "codemirror_mode": {
    "name": "ipython",
    "version": 3
   },
   "file_extension": ".py",
   "mimetype": "text/x-python",
   "name": "python",
   "nbconvert_exporter": "python",
   "pygments_lexer": "ipython3",
   "version": "3.7.0"
  }
 },
 "nbformat": 4,
 "nbformat_minor": 2
}
