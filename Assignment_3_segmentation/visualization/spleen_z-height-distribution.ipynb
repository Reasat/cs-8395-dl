{
 "cells": [
  {
   "cell_type": "code",
   "execution_count": 1,
   "metadata": {},
   "outputs": [],
   "source": [
    "import nibabel as nib\n",
    "import numpy as np\n",
    "import matplotlib.pyplot as plt\n",
    "from skimage.filters import roberts\n",
    "from tqdm import tqdm_notebook as tqdm"
   ]
  },
  {
   "cell_type": "code",
   "execution_count": 3,
   "metadata": {},
   "outputs": [],
   "source": [
    "path_partition=r'D:\\Projects\\cs-8395-dl\\Assignment_3_segmentation\\partition\\train_test_org\\Training.txt'\n",
    "with open(path_partition,'r') as f:\n",
    "    fileIds = [fl.strip() for fl in f.readlines() ]"
   ]
  },
  {
   "cell_type": "code",
   "execution_count": 6,
   "metadata": {},
   "outputs": [],
   "source": [
    "def extract_spleen_coord(label_np):\n",
    "    # starting edge\n",
    "    coord_start = [0, 0, 0]\n",
    "    # ending edge\n",
    "    coord_end = [0, 0, 0]\n",
    "    OFFSET = 2\n",
    "\n",
    "    for i in range(0, label_np.shape[0], OFFSET):\n",
    "        if np.sum(label_np[i:i + OFFSET, :, :] == 1):\n",
    "            coord_start[0] = i\n",
    "            break\n",
    "    for i in range(0, label_np.shape[1], OFFSET):\n",
    "        if np.sum(label_np[:, i:i + OFFSET, :] == 1):\n",
    "            coord_start[1] = i\n",
    "            break\n",
    "    for i in range(0, label_np.shape[2], OFFSET):\n",
    "        if np.sum(label_np[:, :, i:i + OFFSET] == 1):\n",
    "            coord_start[2] = i\n",
    "            break\n",
    "    for i in range(coord_start[0], label_np.shape[0], OFFSET):\n",
    "        if np.sum(label_np[i:i + OFFSET, :, :] == 1) == 0:\n",
    "            coord_end[0] = i\n",
    "            break\n",
    "    for i in range(coord_start[1], label_np.shape[1], OFFSET):\n",
    "        if np.sum(label_np[:, i:i + OFFSET, :] == 1) == 0:\n",
    "            coord_end[1] = i\n",
    "            break\n",
    "    for i in range(coord_start[2], label_np.shape[2], OFFSET):\n",
    "        if np.sum(label_np[:, :, i:i + OFFSET] == 1) == 0:\n",
    "            coord_end[2] = i\n",
    "            break\n",
    "    return [(x1,x2) for x1,x2 in zip(coord_start,coord_end)]\n",
    "\n",
    "def extract_spleen(img,label):\n",
    "    coords = extract_spleen_coord(label)\n",
    "    # print(coords)\n",
    "    return (img[coords[0][0]:coords[0][1]],\n",
    "            label[coords[0][0]:coords[0][1]])\n"
   ]
  },
  {
   "cell_type": "code",
   "execution_count": 10,
   "metadata": {},
   "outputs": [
    {
     "data": {
      "application/vnd.jupyter.widget-view+json": {
       "model_id": "8e7e9064c5564b28a1486274319eae64",
       "version_major": 2,
       "version_minor": 0
      },
      "text/plain": [
       "HBox(children=(IntProgress(value=0, max=30), HTML(value='')))"
      ]
     },
     "metadata": {},
     "output_type": "display_data"
    },
    {
     "name": "stdout",
     "output_type": "stream",
     "text": [
      "0001 spleen height 36\n",
      "0002 spleen height 22\n",
      "0003 spleen height 36\n",
      "0004 spleen height 32\n",
      "0005 spleen height 44\n",
      "0006 spleen height 20\n",
      "0007 spleen height 42\n",
      "0008 spleen height 28\n",
      "0009 spleen height 106\n",
      "0010 spleen height 24\n",
      "0021 spleen height 22\n",
      "0022 spleen height 26\n",
      "0023 spleen height 18\n",
      "0024 spleen height 24\n",
      "0025 spleen height 18\n",
      "0026 spleen height 18\n",
      "0027 spleen height 20\n",
      "0028 spleen height 18\n",
      "0029 spleen height 28\n",
      "0030 spleen height 38\n",
      "0031 spleen height 36\n",
      "0032 spleen height 32\n",
      "0033 spleen height 22\n",
      "0034 spleen height 24\n",
      "0035 spleen height 24\n",
      "0036 spleen height 38\n",
      "0037 spleen height 20\n",
      "0038 spleen height 24\n",
      "0039 spleen height 22\n",
      "0040 spleen height 30\n"
     ]
    }
   ],
   "source": [
    "spleen_pixels=[]\n",
    "for fileId in tqdm(fileIds):\n",
    "    filepath_img = r'D:\\Data\\cs-8395-dl\\assignment3\\Training\\img\\img{}.nii.gz'.format(\n",
    "        fileId)\n",
    "#     img_nib = nib.load(filepath_img)\n",
    "#     img_np =img_nib.get_fdata()\n",
    "    filepath_label = r'D:\\Data\\cs-8395-dl\\assignment3\\Training\\label\\label{}.nii.gz'.format(fileId)\n",
    "    label_nib = nib.load(filepath_label)\n",
    "    label_np = label_nib.get_fdata()\n",
    "    x,y,z=extract_spleen_coord(label_np)\n",
    "    print('{} spleen height {}'.format(fileId,z[1]-z[0]))"
   ]
  }
 ],
 "metadata": {
  "kernelspec": {
   "display_name": "Python 3",
   "language": "python",
   "name": "python3"
  },
  "language_info": {
   "codemirror_mode": {
    "name": "ipython",
    "version": 3
   },
   "file_extension": ".py",
   "mimetype": "text/x-python",
   "name": "python",
   "nbconvert_exporter": "python",
   "pygments_lexer": "ipython3",
   "version": "3.7.0"
  }
 },
 "nbformat": 4,
 "nbformat_minor": 2
}
