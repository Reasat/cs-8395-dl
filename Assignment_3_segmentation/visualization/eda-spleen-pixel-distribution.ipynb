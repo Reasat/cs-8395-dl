{
 "cells": [
  {
   "cell_type": "code",
   "execution_count": 2,
   "metadata": {},
   "outputs": [],
   "source": [
    "import nibabel as nib\n",
    "import numpy as np\n",
    "import matplotlib.pyplot as plt\n",
    "from skimage.filters import roberts"
   ]
  },
  {
   "cell_type": "code",
   "execution_count": 3,
   "metadata": {
    "scrolled": false
   },
   "outputs": [],
   "source": [
    "path_partition=r'D:\\Projects\\cs-8395-dl\\Assignment_3_segmentation\\partition\\train_test_org\\Training.txt'\n",
    "with open(path_partition,'r') as f:\n",
    "    fileIds = [fl.strip() for fl in f.readlines() ]"
   ]
  },
  {
   "cell_type": "code",
   "execution_count": 4,
   "metadata": {},
   "outputs": [
    {
     "data": {
      "application/vnd.jupyter.widget-view+json": {
       "model_id": "628c096bd07549f6b57b6a581c2edafd",
       "version_major": 2,
       "version_minor": 0
      },
      "text/plain": [
       "HBox(children=(IntProgress(value=0, max=30), HTML(value='')))"
      ]
     },
     "metadata": {},
     "output_type": "display_data"
    },
    {
     "name": "stdout",
     "output_type": "stream",
     "text": [
      "\n"
     ]
    }
   ],
   "source": [
    "from tqdm import tqdm_notebook as tqdm\n",
    "spleen_pixels=[]\n",
    "for fileId in tqdm(fileIds):\n",
    "    filepath_img = r'D:\\Data\\cs-8395-dl\\assignment3\\Training\\img\\img{}.nii.gz'.format(\n",
    "        fileId)\n",
    "    img_nib = nib.load(filepath_img)\n",
    "    img_np =img_nib.get_fdata()\n",
    "    filepath_label = r'D:\\Data\\cs-8395-dl\\assignment3\\Training\\label\\label{}.nii.gz'.format(fileId)\n",
    "    label_nib = nib.load(filepath_label)\n",
    "    label_np = label_nib.get_fdata()\n",
    "    spleen_pixels.append(img_np[label_np==1])"
   ]
  },
  {
   "cell_type": "code",
   "execution_count": 5,
   "metadata": {},
   "outputs": [
    {
     "data": {
      "text/plain": [
       "(4506168,)"
      ]
     },
     "execution_count": 5,
     "metadata": {},
     "output_type": "execute_result"
    }
   ],
   "source": [
    "spleen_pixels = np.concatenate(np.array(spleen_pixels),axis=0)\n",
    "spleen_pixels.shape"
   ]
  },
  {
   "cell_type": "code",
   "execution_count": 6,
   "metadata": {},
   "outputs": [
    {
     "data": {
      "text/plain": [
       "(-777.0, 885.0, 100.0, 97.88630849981625)"
      ]
     },
     "execution_count": 6,
     "metadata": {},
     "output_type": "execute_result"
    }
   ],
   "source": [
    "spleen_pixels.min(), spleen_pixels.max(), np.median(spleen_pixels), spleen_pixels.mean()"
   ]
  },
  {
   "cell_type": "code",
   "execution_count": 15,
   "metadata": {},
   "outputs": [
    {
     "data": {
      "text/plain": [
       "Text(0, 0.5, 'count')"
      ]
     },
     "execution_count": 15,
     "metadata": {},
     "output_type": "execute_result"
    },
    {
     "data": {
      "image/png": "[encoded data removed]",
      "text/plain": [
       "<Figure size 360x288 with 1 Axes>"
      ]
     },
     "metadata": {
      "needs_background": "light"
     },
     "output_type": "display_data"
    }
   ],
   "source": [
    "plt.figure(figsize=(5,4))\n",
    "_=plt.hist(spleen_pixels,bins=100)\n",
    "plt.xlabel('spleen pixel intensity', fontsize = 15)\n",
    "plt.ylabel('count', fontsize = 15)"
   ]
  },
  {
   "cell_type": "code",
   "execution_count": 40,
   "metadata": {},
   "outputs": [
    {
     "data": {
      "text/plain": [
       "(29.031306970272723, 166.7413100293598)"
      ]
     },
     "execution_count": 40,
     "metadata": {},
     "output_type": "execute_result"
    }
   ],
   "source": [
    " spleen_pixels.mean()+(-1.645)*np.std(spleen_pixels), spleen_pixels.mean()+(1.645)*np.std(spleen_pixels)"
   ]
  },
  {
   "cell_type": "code",
   "execution_count": 41,
   "metadata": {},
   "outputs": [
    {
     "data": {
      "text/plain": [
       "(0.5265920513552942, 195.2460249482772)"
      ]
     },
     "execution_count": 41,
     "metadata": {},
     "output_type": "execute_result"
    }
   ],
   "source": [
    " spleen_pixels.mean()+(-2.326)*np.std(spleen_pixels), spleen_pixels.mean()+(2.326)*np.std(spleen_pixels)"
   ]
  }
 ],
 "metadata": {
  "kernelspec": {
   "display_name": "Python 3",
   "language": "python",
   "name": "python3"
  },
  "language_info": {
   "codemirror_mode": {
    "name": "ipython",
    "version": 3
   },
   "file_extension": ".py",
   "mimetype": "text/x-python",
   "name": "python",
   "nbconvert_exporter": "python",
   "pygments_lexer": "ipython3",
   "version": "3.7.0"
  }
 },
 "nbformat": 4,
 "nbformat_minor": 2
}
