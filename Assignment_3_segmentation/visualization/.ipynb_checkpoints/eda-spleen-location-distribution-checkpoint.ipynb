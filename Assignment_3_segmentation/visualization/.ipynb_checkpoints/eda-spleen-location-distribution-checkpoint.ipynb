{
 "cells": [
  {
   "cell_type": "code",
   "execution_count": 2,
   "metadata": {},
   "outputs": [],
   "source": [
    "import nibabel as nib\n",
    "import numpy as np\n",
    "import matplotlib.pyplot as plt\n",
    "from skimage.filters import roberts\n",
    "from tqdm import tqdm_notebook as tqdm"
   ]
  },
  {
   "cell_type": "code",
   "execution_count": 3,
   "metadata": {},
   "outputs": [],
   "source": [
    "path_partition=r'D:\\Projects\\cs-8395-dl\\Assignment_3_segmentation\\partition\\train_test_org\\Training.txt'\n",
    "with open(path_partition,'r') as f:\n",
    "    fileIds = [fl.strip() for fl in f.readlines() ]"
   ]
  },
  {
   "cell_type": "code",
   "execution_count": 4,
   "metadata": {},
   "outputs": [],
   "source": [
    "def extract_spleen_coord(label_np):\n",
    "    # starting edge\n",
    "    coord_start = [0, 0, 0]\n",
    "    # ending edge\n",
    "    coord_end = [0, 0, 0]\n",
    "    OFFSET = 2\n",
    "\n",
    "    for i in range(0, label_np.shape[0], OFFSET):\n",
    "        if np.sum(label_np[i:i + OFFSET, :, :] == 1):\n",
    "            coord_start[0] = i\n",
    "            break\n",
    "    for i in range(0, label_np.shape[1], OFFSET):\n",
    "        if np.sum(label_np[:, i:i + OFFSET, :] == 1):\n",
    "            coord_start[1] = i\n",
    "            break\n",
    "    for i in range(0, label_np.shape[2], OFFSET):\n",
    "        if np.sum(label_np[:, :, i:i + OFFSET] == 1):\n",
    "            coord_start[2] = i\n",
    "            break\n",
    "    for i in range(coord_start[0], label_np.shape[0], OFFSET):\n",
    "        if np.sum(label_np[i:i + OFFSET, :, :] == 1) == 0:\n",
    "            coord_end[0] = i\n",
    "            break\n",
    "    for i in range(coord_start[1], label_np.shape[1], OFFSET):\n",
    "        if np.sum(label_np[:, i:i + OFFSET, :] == 1) == 0:\n",
    "            coord_end[1] = i\n",
    "            break\n",
    "    for i in range(coord_start[2], label_np.shape[2], OFFSET):\n",
    "        if np.sum(label_np[:, :, i:i + OFFSET] == 1) == 0:\n",
    "            coord_end[2] = i\n",
    "            break\n",
    "    return [(x1,x2) for x1,x2 in zip(coord_start,coord_end)]\n",
    "\n",
    "def extract_spleen(img,label):\n",
    "    coords = extract_spleen_coord(label)\n",
    "    # print(coords)\n",
    "    return (img[coords[0][0]:coords[0][1]],\n",
    "            label[coords[0][0]:coords[0][1]])\n"
   ]
  },
  {
   "cell_type": "code",
   "execution_count": 5,
   "metadata": {
    "scrolled": false
   },
   "outputs": [
    {
     "data": {
      "application/vnd.jupyter.widget-view+json": {
       "model_id": "ec679495ee5549ef8ebea49b473b5c05",
       "version_major": 2,
       "version_minor": 0
      },
      "text/plain": [
       "HBox(children=(IntProgress(value=0, max=30), HTML(value='')))"
      ]
     },
     "metadata": {},
     "output_type": "display_data"
    },
    {
     "name": "stdout",
     "output_type": "stream",
     "text": [
      "0001 spleen ratio in axial (z) 0.24, sagittal (x) 0.33, coronal (y) 0.25\n",
      "0002 spleen ratio in axial (z) 0.16, sagittal (x) 0.23, coronal (y) 0.26\n",
      "0003 spleen ratio in axial (z) 0.18, sagittal (x) 0.22, coronal (y) 0.24\n",
      "0004 spleen ratio in axial (z) 0.23, sagittal (x) 0.25, coronal (y) 0.25\n",
      "0005 spleen ratio in axial (z) 0.38, sagittal (x) 0.24, coronal (y) 0.22\n",
      "0006 spleen ratio in axial (z) 0.15, sagittal (x) 0.27, coronal (y) 0.15\n",
      "0007 spleen ratio in axial (z) 0.26, sagittal (x) 0.25, coronal (y) 0.27\n",
      "0008 spleen ratio in axial (z) 0.19, sagittal (x) 0.29, coronal (y) 0.27\n",
      "0009 spleen ratio in axial (z) 0.71, sagittal (x) 0.32, coronal (y) 0.46\n",
      "0010 spleen ratio in axial (z) 0.16, sagittal (x) 0.20, coronal (y) 0.14\n",
      "0021 spleen ratio in axial (z) 0.15, sagittal (x) 0.22, coronal (y) 0.22\n",
      "0022 spleen ratio in axial (z) 0.29, sagittal (x) 0.25, coronal (y) 0.31\n",
      "0023 spleen ratio in axial (z) 0.19, sagittal (x) 0.28, coronal (y) 0.24\n",
      "0024 spleen ratio in axial (z) 0.19, sagittal (x) 0.25, coronal (y) 0.30\n",
      "0025 spleen ratio in axial (z) 0.21, sagittal (x) 0.23, coronal (y) 0.22\n",
      "0026 spleen ratio in axial (z) 0.14, sagittal (x) 0.20, coronal (y) 0.21\n",
      "0027 spleen ratio in axial (z) 0.23, sagittal (x) 0.29, coronal (y) 0.21\n",
      "0028 spleen ratio in axial (z) 0.20, sagittal (x) 0.25, coronal (y) 0.14\n",
      "0029 spleen ratio in axial (z) 0.28, sagittal (x) 0.19, coronal (y) 0.23\n",
      "0030 spleen ratio in axial (z) 0.25, sagittal (x) 0.30, coronal (y) 0.30\n",
      "0031 spleen ratio in axial (z) 0.39, sagittal (x) 0.25, coronal (y) 0.26\n",
      "0032 spleen ratio in axial (z) 0.22, sagittal (x) 0.22, coronal (y) 0.20\n",
      "0033 spleen ratio in axial (z) 0.21, sagittal (x) 0.23, coronal (y) 0.29\n",
      "0034 spleen ratio in axial (z) 0.24, sagittal (x) 0.29, coronal (y) 0.32\n",
      "0035 spleen ratio in axial (z) 0.26, sagittal (x) 0.21, coronal (y) 0.25\n",
      "0036 spleen ratio in axial (z) 0.21, sagittal (x) 0.33, coronal (y) 0.26\n",
      "0037 spleen ratio in axial (z) 0.20, sagittal (x) 0.28, coronal (y) 0.29\n",
      "0038 spleen ratio in axial (z) 0.24, sagittal (x) 0.26, coronal (y) 0.29\n",
      "0039 spleen ratio in axial (z) 0.24, sagittal (x) 0.22, coronal (y) 0.23\n",
      "0040 spleen ratio in axial (z) 0.15, sagittal (x) 0.23, coronal (y) 0.18\n",
      "\n"
     ]
    }
   ],
   "source": [
    "for fileId in tqdm(fileIds):\n",
    "    filepath_img = r'D:\\Data\\cs-8395-dl\\assignment3\\Training\\img\\img{}.nii.gz'.format(\n",
    "        fileId)\n",
    "#     img_nib = nib.load(filepath_img)\n",
    "#     img_np =img_nib.get_fdata()\n",
    "    filepath_label = r'D:\\Data\\cs-8395-dl\\assignment3\\Training\\label\\label{}.nii.gz'.format(fileId)\n",
    "    label_nib = nib.load(filepath_label)\n",
    "    label_np = label_nib.get_fdata()\n",
    "    x,y,z=extract_spleen_coord(label_np)\n",
    "    print('{} spleen ratio in axial (z) {:.2f}, sagittal (x) {:.2f}, coronal (y) {:.2f}'.format(\n",
    "        fileId,\n",
    "        (z[1]-z[0])/label_np.shape[2],\n",
    "        (x[1]-x[0])/label_np.shape[0],\n",
    "        (y[1]-y[0])/label_np.shape[1]\n",
    "    ))"
   ]
  }
 ],
 "metadata": {
  "kernelspec": {
   "display_name": "Python 3",
   "language": "python",
   "name": "python3"
  },
  "language_info": {
   "codemirror_mode": {
    "name": "ipython",
    "version": 3
   },
   "file_extension": ".py",
   "mimetype": "text/x-python",
   "name": "python",
   "nbconvert_exporter": "python",
   "pygments_lexer": "ipython3",
   "version": "3.7.0"
  }
 },
 "nbformat": 4,
 "nbformat_minor": 2
}
