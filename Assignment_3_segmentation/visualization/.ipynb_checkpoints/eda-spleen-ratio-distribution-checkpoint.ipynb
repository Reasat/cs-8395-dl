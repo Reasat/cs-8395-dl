{
 "cells": [
  {
   "cell_type": "code",
   "execution_count": 14,
   "metadata": {},
   "outputs": [],
   "source": [
    "import nibabel as nib\n",
    "import numpy as np\n",
    "import matplotlib.pyplot as plt\n",
    "from skimage.filters import roberts"
   ]
  },
  {
   "cell_type": "code",
   "execution_count": 15,
   "metadata": {},
   "outputs": [],
   "source": [
    "path_partition=r'D:\\Projects\\cs-8395-dl\\Assignment_3_segmentation\\partition\\train_test_org\\Training.txt'\n",
    "with open(path_partition,'r') as f:\n",
    "    fileIds = [fl.strip() for fl in f.readlines() ]"
   ]
  },
  {
   "cell_type": "code",
   "execution_count": 16,
   "metadata": {},
   "outputs": [
    {
     "name": "stdout",
     "output_type": "stream",
     "text": [
      "0001 (512, 512, 147)\n",
      "0002 (512, 512, 139)\n",
      "0003 (512, 512, 198)\n",
      "0004 (512, 512, 140)\n",
      "0005 (512, 512, 117)\n",
      "0006 (512, 512, 131)\n",
      "0007 (512, 512, 163)\n",
      "0008 (512, 512, 148)\n",
      "0009 (512, 512, 149)\n",
      "0010 (512, 512, 148)\n",
      "0021 (512, 512, 143)\n",
      "0022 (512, 512, 89)\n",
      "0023 (512, 512, 96)\n",
      "0024 (512, 512, 124)\n",
      "0025 (512, 512, 85)\n",
      "0026 (512, 512, 131)\n",
      "0027 (512, 512, 88)\n",
      "0028 (512, 512, 89)\n",
      "0029 (512, 512, 100)\n",
      "0030 (512, 512, 153)\n",
      "0031 (512, 512, 93)\n",
      "0032 (512, 512, 144)\n",
      "0033 (512, 512, 104)\n",
      "0034 (512, 512, 98)\n",
      "0035 (512, 512, 94)\n",
      "0036 (512, 512, 184)\n",
      "0037 (512, 512, 99)\n",
      "0038 (512, 512, 100)\n",
      "0039 (512, 512, 90)\n",
      "0040 (512, 512, 195)\n"
     ]
    }
   ],
   "source": [
    "for fileId in fileIds:\n",
    "    filepath = r'D:\\Data\\cs-8395-dl\\assignment3\\Training\\img\\img{}.nii.gz'.format(\n",
    "        fileId)\n",
    "    img_nib = nib.load(filepath)\n",
    "    img_np =img_nib.get_fdata()\n",
    "    print(fileId,img_np.shape)"
   ]
  }
 ],
 "metadata": {
  "kernelspec": {
   "display_name": "Python 3",
   "language": "python",
   "name": "python3"
  },
  "language_info": {
   "codemirror_mode": {
    "name": "ipython",
    "version": 3
   },
   "file_extension": ".py",
   "mimetype": "text/x-python",
   "name": "python",
   "nbconvert_exporter": "python",
   "pygments_lexer": "ipython3",
   "version": "3.7.0"
  }
 },
 "nbformat": 4,
 "nbformat_minor": 2
}
