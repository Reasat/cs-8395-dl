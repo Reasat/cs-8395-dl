{
 "cells": [
  {
   "cell_type": "code",
   "execution_count": 5,
   "metadata": {},
   "outputs": [],
   "source": [
    "from glob import glob\n",
    "import os\n",
    "from albumentations import (\n",
    "    Compose, Resize, Normalize, RandomBrightnessContrast, HorizontalFlip,\n",
    "CenterCrop\n",
    ")\n",
    "import albumentations.pytorch as albu_torch\n",
    "import sys\n",
    "sys.path.insert(1,r'..\\utility')\n",
    "sys.path.insert(1,r'..\\models')\n",
    "from dataloader import Spleen_Dataset\n",
    "from logger import Logger\n",
    "from loss import bceWithSoftmax\n",
    "from torch.utils.data import DataLoader\n",
    "from models import DPN68\n",
    "import torch.optim as optim\n",
    "import torch\n",
    "import torch.nn as nn\n",
    "from metrics import dice\n",
    "import time\n",
    "import argparse\n",
    "import numpy as np\n",
    "import pickle\n",
    "import pandas as pd\n",
    "from metrics import get_acc,get_recall,conf_mat\n",
    "from tqdm import tqdm_notebook as tqdm\n",
    "import matplotlib.pyplot as plt\n",
    "from metrics import pretty_plot_confusion_matrix\n",
    "from pandas import DataFrame\n",
    "from plotters import plot_outline, recon_img_mask\n",
    "device = torch.device(\"cuda:0\" if torch.cuda.is_available() else \"cpu\")"
   ]
  },
  {
   "cell_type": "code",
   "execution_count": 9,
   "metadata": {},
   "outputs": [
    {
     "name": "stdout",
     "output_type": "stream",
     "text": [
      "loading model from D:/Data/cs-8395-dl/model/2020-03-23-07-39-40/2020-03-23-07-39-40_dpn68_fold-1_best.pt\n",
      "loading model from epoch  1\n"
     ]
    }
   ],
   "source": [
    "# parser=argparse.ArgumentParser()\n",
    "# parser.add_argument('--dir_project', help='project directory', default=r'..')\n",
    "# parser.add_argument('--folderPartition', help='partition directory', default='train_test_org')\n",
    "# parser.add_argument('--dir_lf', help='directory large fileIDs',default=r'D:\\Data\\cs-8395-dl')\n",
    "# parser.add_argument('--path_kfold', help='kfold', default=r'D:\\Projects\\cs-8395-dl\\Assignment_3_segmentation\\partition\\kfold_5.bin')\n",
    "# parser.add_argument('--folderData', help='data directory', default=r'assignment3\\Training')\n",
    "# parser.add_argument('--encoder',help='encoder',default='resnet34')\n",
    "# parser.add_argument('--batchSize', help='batch size', type=int, default=8)\n",
    "# parser.add_argument('--load_from', help='filepath to load model',\n",
    "#                     default=r'D:\\Data\\cs-8395-dl\\model\\2020-03-20-07-53-39\\2020-03-20-07-53-39_1_fold-resnet34_best')\n",
    "\n",
    "# args=parser.parse_args()\n",
    "class Args():\n",
    "    def __init__(self):\n",
    "        self.dir_project = r'..'\n",
    "        self.dir_lf = r'D:\\Data\\cs-8395-dl'\n",
    "        self.path_kfold=r'D:\\Projects\\cs-8395-dl\\Assignment_3_segmentation\\partition\\kfold_5.bin'\n",
    "        self.folderPartition='train_test_org'\n",
    "        self.folderData=r'assignment3\\Training'\n",
    "        self.batchSize=12\n",
    "        self.axis = 'axial'\n",
    "        self.lossWeight = [0.3, 0.7]\n",
    "        self.load_from=r'D:/Data/cs-8395-dl/model/2020-03-23-07-39-40/2020-03-23-07-39-40_dpn68_fold-1_best.pt'\n",
    "        self.dir_output = r'D:/Data/cs-8395-dl/output/assignment3/axial_spleen_prob'\n",
    "args = Args()\n",
    "# setting up directories\n",
    "kf = pickle.load(open(args.path_kfold,'rb'))\n",
    "with open(os.path.join(args.dir_project,'partition',args.folderPartition,'Training.txt')) as  f:\n",
    "    file_ids = [id.strip() for id in f.readlines()]\n",
    "ind_train, ind_valid = list(kf.split(file_ids))[0]\n",
    "file_ids_train = np.array(file_ids)[ind_train]\n",
    "file_ids_valid = np.array(file_ids)[ind_valid]\n",
    "BATCH_SIZE=args.batchSize\n",
    "\n",
    "dir_data = os.path.join(args.dir_lf,args.folderData) #os.path.join(DIR_LF,'assignment1_data')\n",
    "with open(os.path.join(args.dir_project,'partition',args.folderPartition,'Training.txt')) as  f:\n",
    "    file_ids_all = [id.strip() for id in f.readlines()]\n",
    "\n",
    "# Dataloader Parameters\n",
    "model = DPN68().to(device)\n",
    "print('loading model from {}'.format(args.load_from))\n",
    "train_states = torch.load(args.load_from)\n",
    "print('loading model from epoch ', train_states['epoch'])\n",
    "model.load_state_dict(train_states['model_state_dict'])\n",
    "Dataset_test = Spleen_Dataset(\n",
    "        dir_data=dir_data,\n",
    "        fileIDs=file_ids_valid,\n",
    "#         transform='organ_mask',\n",
    "        axis=args.axis\n",
    "        # extract_spleen=args.extract_spleen\n",
    "        # to_ram=True\n",
    "    )\n",
    "compute_loss = bceWithSoftmax(weights=args.lossWeight)"
   ]
  },
  {
   "cell_type": "code",
   "execution_count": 11,
   "metadata": {
    "scrolled": false
   },
   "outputs": [
    {
     "data": {
      "application/vnd.jupyter.widget-view+json": {
       "model_id": "ee146ebb6da6418ea1c9f14ef71e9f04",
       "version_major": 2,
       "version_minor": 0
      },
      "text/plain": [
       "HBox(children=(IntProgress(value=0, max=6), HTML(value='')))"
      ]
     },
     "metadata": {},
     "output_type": "display_data"
    },
    {
     "data": {
      "application/vnd.jupyter.widget-view+json": {
       "model_id": "c8863f39ecfc4e73a02d81135dd08242",
       "version_major": 2,
       "version_minor": 0
      },
      "text/plain": [
       "HBox(children=(IntProgress(value=1, bar_style='info', max=1), HTML(value='')))"
      ]
     },
     "metadata": {},
     "output_type": "display_data"
    },
    {
     "data": {
      "application/vnd.jupyter.widget-view+json": {
       "model_id": "f9727a678b9e4ae6863309df343f7cde",
       "version_major": 2,
       "version_minor": 0
      },
      "text/plain": [
       "HBox(children=(IntProgress(value=1, bar_style='info', max=1), HTML(value='')))"
      ]
     },
     "metadata": {},
     "output_type": "display_data"
    },
    {
     "data": {
      "application/vnd.jupyter.widget-view+json": {
       "model_id": "ed50c6d7d0d640baaf8bcf1d0c1712ca",
       "version_major": 2,
       "version_minor": 0
      },
      "text/plain": [
       "HBox(children=(IntProgress(value=1, bar_style='info', max=1), HTML(value='')))"
      ]
     },
     "metadata": {},
     "output_type": "display_data"
    },
    {
     "data": {
      "application/vnd.jupyter.widget-view+json": {
       "model_id": "f3c962d67f364f259293a9dc7d23f863",
       "version_major": 2,
       "version_minor": 0
      },
      "text/plain": [
       "HBox(children=(IntProgress(value=1, bar_style='info', max=1), HTML(value='')))"
      ]
     },
     "metadata": {},
     "output_type": "display_data"
    },
    {
     "data": {
      "application/vnd.jupyter.widget-view+json": {
       "model_id": "34fc18d473bf45f8981081e0d5d8b3c2",
       "version_major": 2,
       "version_minor": 0
      },
      "text/plain": [
       "HBox(children=(IntProgress(value=1, bar_style='info', max=1), HTML(value='')))"
      ]
     },
     "metadata": {},
     "output_type": "display_data"
    },
    {
     "data": {
      "application/vnd.jupyter.widget-view+json": {
       "model_id": "23cd2498dce14dc5b6e2e090210fb6b0",
       "version_major": 2,
       "version_minor": 0
      },
      "text/plain": [
       "HBox(children=(IntProgress(value=1, bar_style='info', max=1), HTML(value='')))"
      ]
     },
     "metadata": {},
     "output_type": "display_data"
    },
    {
     "name": "stdout",
     "output_type": "stream",
     "text": [
      "\n"
     ]
    }
   ],
   "source": [
    "model.eval()\n",
    "for m in model.modules():\n",
    "    if isinstance(m, nn.BatchNorm2d):\n",
    "        m.track_running_stats=False\n",
    "idx = range(len(Dataset_test))\n",
    "with torch.no_grad():\n",
    "    for ind in tqdm(idx): # each patient\n",
    "        sample = Dataset_test[ind]\n",
    "        batch_start_range = range(0, sample[0].shape[-3], BATCH_SIZE)\n",
    "        batch_start_range = np.array(list(batch_start_range))\n",
    "        spleen_prob=[]\n",
    "        for i_b, batch_start in tqdm(enumerate(batch_start_range)): # each batch\n",
    "            # sample[0] dim [147, 512, 512]\n",
    "            image_batch = sample[0].squeeze()[batch_start:batch_start + BATCH_SIZE, :, :]\n",
    "            mask_batch = sample[1][batch_start:batch_start + BATCH_SIZE, :, :]\n",
    "            \n",
    "            image_batch = torch.cat(3 * [image_batch.unsqueeze(1)], dim=1)\n",
    "            image_batch = image_batch.float().to(device)\n",
    "     \n",
    "            target_batch = ((torch.sum(mask_batch, dim=(1, 2)) > 0) * 1)\n",
    "            target_batch = target_batch.to(device)\n",
    "            output = model(image_batch)\n",
    "            loss = compute_loss(output, target_batch)\n",
    "            spleen_prob.append(target_batch.detach().cpu().numpy())\n",
    "#             print(target_batch)\n",
    "#             print(torch.softmax(output,dim=1))\n",
    "#             print(loss)\n",
    "            \n",
    "#             # plot\n",
    "#             image_3d_rec, mask_3d_rec = recon_img_mask(image_batch, mask_batch)\n",
    "#             plot_outline(image_3d_rec, mask_3d_rec, torch.softmax(output,dim=1),\n",
    "#                          range(0, mask_3d_rec.shape[0], 1))\n",
    "#         break\n",
    "        spleen_prob = np.concatenate(np.array(spleen_prob),axis=0)\n",
    "        np.save(os.path.join(args.dir_output,'{}.npy'.format(file_ids_valid[ind])), spleen_prob)\n",
    "        \n"
   ]
  },
  {
   "cell_type": "code",
   "execution_count": null,
   "metadata": {},
   "outputs": [],
   "source": [
    "model.model_fc_stripped(image_batch).shape"
   ]
  }
 ],
 "metadata": {
  "kernelspec": {
   "display_name": "Python 3",
   "language": "python",
   "name": "python3"
  },
  "language_info": {
   "codemirror_mode": {
    "name": "ipython",
    "version": 3
   },
   "file_extension": ".py",
   "mimetype": "text/x-python",
   "name": "python",
   "nbconvert_exporter": "python",
   "pygments_lexer": "ipython3",
   "version": "3.7.0"
  }
 },
 "nbformat": 4,
 "nbformat_minor": 2
}
