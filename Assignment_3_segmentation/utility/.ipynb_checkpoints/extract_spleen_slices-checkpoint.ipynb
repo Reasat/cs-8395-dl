{
 "cells": [
  {
   "cell_type": "code",
   "execution_count": 8,
   "metadata": {},
   "outputs": [],
   "source": [
    "from glob import glob\n",
    "import os\n",
    "from albumentations import (\n",
    "    Compose, Resize, Normalize, RandomBrightnessContrast, HorizontalFlip,\n",
    "CenterCrop\n",
    ")\n",
    "import albumentations.pytorch as albu_torch\n",
    "import sys\n",
    "sys.path.insert(1,r'..\\utility')\n",
    "sys.path.insert(1,r'..\\models')\n",
    "from dataloader import Spleen_Dataset\n",
    "from logger import Logger\n",
    "from loss import bceWithSoftmax\n",
    "from torch.utils.data import DataLoader\n",
    "from models import DPN68\n",
    "import torch.optim as optim\n",
    "import torch\n",
    "from metrics import dice\n",
    "import time\n",
    "import argparse\n",
    "import numpy as np\n",
    "import pickle\n",
    "import pandas as pd\n",
    "from metrics import get_acc,get_recall,conf_mat\n",
    "from tqdm import tqdm\n",
    "import matplotlib.pyplot as plt\n",
    "from metrics import pretty_plot_confusion_matrix\n",
    "from pandas import DataFrame\n",
    "from plotters import plot_outline, recon_img_mask\n",
    "device = torch.device(\"cuda:0\" if torch.cuda.is_available() else \"cpu\")"
   ]
  },
  {
   "cell_type": "code",
   "execution_count": 9,
   "metadata": {},
   "outputs": [],
   "source": [
    "path = "
   ]
  },
  {
   "cell_type": "code",
   "execution_count": 10,
   "metadata": {},
   "outputs": [],
   "source": [
    "train_state=torch.load(path)"
   ]
  },
  {
   "cell_type": "code",
   "execution_count": 11,
   "metadata": {},
   "outputs": [
    {
     "data": {
      "text/plain": [
       "<All keys matched successfully>"
      ]
     },
     "execution_count": 11,
     "metadata": {},
     "output_type": "execute_result"
    }
   ],
   "source": [
    "model=DPN68()\n",
    "model.load_state_dict(train_state['model_state_dict'])"
   ]
  },
  {
   "cell_type": "code",
   "execution_count": null,
   "metadata": {},
   "outputs": [],
   "source": [
    "# parser=argparse.ArgumentParser()\n",
    "# parser.add_argument('--dir_project', help='project directory', default=r'..')\n",
    "# parser.add_argument('--folderPartition', help='partition directory', default='train_test_org')\n",
    "# parser.add_argument('--dir_lf', help='directory large fileIDs',default=r'D:\\Data\\cs-8395-dl')\n",
    "# parser.add_argument('--path_kfold', help='kfold', default=r'D:\\Projects\\cs-8395-dl\\Assignment_3_segmentation\\partition\\kfold_5.bin')\n",
    "# parser.add_argument('--folderData', help='data directory', default=r'assignment3\\Training')\n",
    "# parser.add_argument('--encoder',help='encoder',default='resnet34')\n",
    "# parser.add_argument('--batchSize', help='batch size', type=int, default=8)\n",
    "# parser.add_argument('--load_from', help='filepath to load model',\n",
    "#                     default=r'D:\\Data\\cs-8395-dl\\model\\2020-03-20-07-53-39\\2020-03-20-07-53-39_1_fold-resnet34_best')\n",
    "\n",
    "# args=parser.parse_args()\n",
    "\n",
    "args={\n",
    "    'path_kfold':r'D:\\Projects\\cs-8395-dl\\Assignment_3_segmentation\\partition\\kfold_5.bin'\n",
    "    'folderPartition':'train_test_org'\n",
    "    'folderData':r'assignment3\\Training'\n",
    "    'batchSize':8\n",
    "    'load_from':r'D:/Data/cs-8395-dl/model/2020-03-23-05-34-47/2020-03-23-05-34-47_1_fold-dpn68_best.pt'\n",
    "}\n",
    "\n",
    "# setting up directories\n",
    "kf = pickle.load(open(args.path_kfold,'rb'))\n",
    "with open(os.path.join(args.dir_project,'partition',args.folderPartition,'Training.txt')) as  f:\n",
    "    file_ids = [id.strip() for id in f.readlines()]\n",
    "ind_train, ind_valid = list(kf.split(file_ids))[0]\n",
    "file_ids_train = np.array(file_ids)[ind_train]\n",
    "file_ids_valid = np.array(file_ids)[ind_valid]\n",
    "BATCH_SIZE=args.batchSize\n",
    "\n",
    "dir_data = os.path.join(args.dir_lf,args.folderData) #os.path.join(DIR_LF,'assignment1_data')\n",
    "with open(os.path.join(args.dir_project,'partition',args.folderPartition,'Training.txt')) as  f:\n",
    "    file_ids_all = [id.strip() for id in f.readlines()]\n",
    "\n",
    "# Dataloader Parameters\n",
    "model = DPN68()\n",
    "# print('loading model from {}'.format(args.load_from))\n",
    "train_states = torch.load(args.load_from)\n",
    "# print('loading model from epoch ', train_states['epoch'])\n",
    "model.load_state_dict(train_states['model_state_dict'])\n",
    "Dataset_test = Spleen_Dataset(\n",
    "        dir_data=dir_data,\n",
    "        fileIDs=file_ids_valid,\n",
    "        # extract_spleen=args.extract_spleen\n",
    "        # to_ram=True\n",
    "    )\n",
    "model.eval()\n",
    "with torch.no_grad():\n",
    "    for ind in tqdm(ind_valid):\n",
    "        sample = Dataset_test[ind]\n",
    "        output_3d = []\n",
    "        mask_3d = []\n",
    "        batch_start_range = range(0, sample[0].shape[-3], BATCH_SIZE)\n",
    "        batch_start_range = np.array(list(batch_start_range))\n",
    "        # batch_start_range = batch_start_range[batch_start_range > 120]\n",
    "        # batch_start_range = batch_start_range[batch_start_range < 130]\n",
    "        # print(batch_start_range)\n",
    "        for i_b, batch_start in tqdm(enumerate(batch_start_range)):\n",
    "            # sample[0] dim [147, 512, 512]\n",
    "            image_batch = sample[0].squeeze()[batch_start:batch_start + BATCH_SIZE, :, :]\n",
    "            image_batch = torch.cat(3 * [image_batch.unsqueeze(1)], dim=1)\n",
    "            image_batch = image_batch.float()\n",
    "\n",
    "            mask_batch = sample[1][batch_start:batch_start + BATCH_SIZE, :, :]\n",
    "            target_batch = ((torch.sum(mask_batch, dim=(1, 2)) > 0) * 1)\n",
    "            target_batch = target_batch.to\n",
    "            output = model(image_batch)\n",
    "\n"
   ]
  }
 ],
 "metadata": {
  "kernelspec": {
   "display_name": "Python 3",
   "language": "python",
   "name": "python3"
  },
  "language_info": {
   "codemirror_mode": {
    "name": "ipython",
    "version": 3
   },
   "file_extension": ".py",
   "mimetype": "text/x-python",
   "name": "python",
   "nbconvert_exporter": "python",
   "pygments_lexer": "ipython3",
   "version": "3.7.0"
  }
 },
 "nbformat": 4,
 "nbformat_minor": 2
}
