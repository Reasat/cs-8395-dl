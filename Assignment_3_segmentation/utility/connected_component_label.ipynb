{
 "cells": [
  {
   "cell_type": "code",
   "execution_count": 1,
   "metadata": {},
   "outputs": [],
   "source": [
    "import cc3d\n",
    "import numpy as np\n",
    "# from mpl_toolkits.mplot3d import Axes3D  # noqa: F401 unused import\n",
    "# import matplotlib.pyplot as plt\n",
    "from plotly import graph_objs as go\n",
    "import nibabel as nib\n",
    "from dataloader import extract_spleen_coord"
   ]
  },
  {
   "cell_type": "code",
   "execution_count": 2,
   "metadata": {},
   "outputs": [],
   "source": [
    "file_id = '0061'"
   ]
  },
  {
   "cell_type": "code",
   "execution_count": 3,
   "metadata": {},
   "outputs": [],
   "source": [
    "path_label= r'D:\\Data\\cs-8395-dl\\output\\assignment3\\segmentation_prob\\label{}.nii.gz'.format(file_id)\n",
    "label_nib = nib.load(path_label)\n",
    "label_3d =label_nib.get_fdata()"
   ]
  },
  {
   "cell_type": "code",
   "execution_count": 4,
   "metadata": {},
   "outputs": [],
   "source": [
    "label_bin = label_3d>label_3d.max()/2\n",
    "label_bin = label_bin.astype(np.uint16)"
   ]
  },
  {
   "cell_type": "code",
   "execution_count": 5,
   "metadata": {},
   "outputs": [],
   "source": [
    "# np.random.seed(42)\n",
    "labels_out = cc3d.connected_components(label_bin, \n",
    "                                       connectivity=6,\n",
    "                                       out_dtype=np.uint16)"
   ]
  },
  {
   "cell_type": "code",
   "execution_count": 6,
   "metadata": {},
   "outputs": [
    {
     "data": {
      "text/plain": [
       "((512, 512, 138),\n",
       " array([ 0,  1,  2,  3,  4,  5,  6,  7,  8,  9, 10, 11, 12, 13, 14, 15, 16,\n",
       "        17, 18, 19, 20, 21, 22, 23, 24, 25, 26, 27, 28, 29, 30, 31, 32],\n",
       "       dtype=uint16))"
      ]
     },
     "execution_count": 6,
     "metadata": {},
     "output_type": "execute_result"
    }
   ],
   "source": [
    "labels_out.shape, np.unique(labels_out.flatten())"
   ]
  },
  {
   "cell_type": "code",
   "execution_count": 7,
   "metadata": {},
   "outputs": [],
   "source": [
    "path_axial_prob = r'D:\\Data\\cs-8395-dl\\output\\assignment3\\axial_spleen_prob\\{}.npy'.format(file_id)\n",
    "axial_prob = np.load(path_axial_prob)"
   ]
  },
  {
   "cell_type": "code",
   "execution_count": 8,
   "metadata": {},
   "outputs": [
    {
     "data": {
      "text/plain": [
       "(138, 2)"
      ]
     },
     "execution_count": 8,
     "metadata": {},
     "output_type": "execute_result"
    }
   ],
   "source": [
    "axial_prob.shape"
   ]
  },
  {
   "cell_type": "code",
   "execution_count": 14,
   "metadata": {},
   "outputs": [
    {
     "data": {
      "text/plain": [
       "0.014490343"
      ]
     },
     "execution_count": 14,
     "metadata": {},
     "output_type": "execute_result"
    }
   ],
   "source": [
    "spleen_prob"
   ]
  },
  {
   "cell_type": "code",
   "execution_count": 16,
   "metadata": {},
   "outputs": [
    {
     "name": "stdout",
     "output_type": "stream",
     "text": [
      "segid: 1, Volume ratio: 0.000035, median prob 0.01, vol*prob 0.000001\n",
      "updating criteria 0.000000-->0.000001 for seg_id 1\n",
      "segid: 2, Volume ratio: 0.000377, median prob 0.07, vol*prob 0.000025\n",
      "updating criteria 0.000001-->0.000025 for seg_id 2\n",
      "segid: 3, Volume ratio: 0.000087, median prob 0.04, vol*prob 0.000003\n",
      "segid: 4, Volume ratio: 0.005346, median prob 0.03, vol*prob 0.000176\n",
      "updating criteria 0.000025-->0.000176 for seg_id 4\n",
      "segid: 5, Volume ratio: 0.000004, median prob 0.02, vol*prob 0.000000\n",
      "segid: 6, Volume ratio: 0.000004, median prob 0.03, vol*prob 0.000000\n",
      "segid: 7, Volume ratio: 0.000001, median prob 0.03, vol*prob 0.000000\n",
      "segid: 8, Volume ratio: 0.000000, median prob 0.04, vol*prob 0.000000\n",
      "segid: 9, Volume ratio: 0.000043, median prob 0.03, vol*prob 0.000001\n",
      "segid: 10, Volume ratio: 0.000021, median prob 0.03, vol*prob 0.000001\n",
      "segid: 11, Volume ratio: 0.000005, median prob 0.03, vol*prob 0.000000\n",
      "segid: 12, Volume ratio: 0.000079, median prob 0.04, vol*prob 0.000003\n",
      "segid: 13, Volume ratio: 0.000006, median prob 0.02, vol*prob 0.000000\n",
      "segid: 14, Volume ratio: 0.000004, median prob 0.03, vol*prob 0.000000\n",
      "segid: 15, Volume ratio: 0.000000, median prob 0.04, vol*prob 0.000000\n",
      "segid: 16, Volume ratio: 0.000052, median prob 0.02, vol*prob 0.000001\n",
      "segid: 17, Volume ratio: 0.000005, median prob 0.02, vol*prob 0.000000\n",
      "segid: 18, Volume ratio: 0.000002, median prob 0.02, vol*prob 0.000000\n",
      "segid: 19, Volume ratio: 0.000018, median prob 0.02, vol*prob 0.000000\n",
      "segid: 20, Volume ratio: 0.000009, median prob 0.02, vol*prob 0.000000\n",
      "segid: 21, Volume ratio: 0.000062, median prob 0.03, vol*prob 0.000002\n",
      "segid: 22, Volume ratio: 0.000038, median prob 0.03, vol*prob 0.000001\n",
      "segid: 23, Volume ratio: 0.000003, median prob 0.05, vol*prob 0.000000\n",
      "segid: 24, Volume ratio: 0.000002, median prob 0.07, vol*prob 0.000000\n",
      "segid: 25, Volume ratio: 0.000016, median prob 0.07, vol*prob 0.000001\n",
      "segid: 26, Volume ratio: 0.000000, median prob 0.10, vol*prob 0.000000\n",
      "segid: 27, Volume ratio: 0.000173, median prob 0.26, vol*prob 0.000045\n",
      "segid: 28, Volume ratio: 0.000002, median prob 0.73, vol*prob 0.000001\n",
      "segid: 29, Volume ratio: 0.002128, median prob 0.77, vol*prob 0.001636\n",
      "updating criteria 0.000176-->0.001636 for seg_id 29\n",
      "segid: 30, Volume ratio: 0.000084, median prob 0.03, vol*prob 0.000003\n",
      "segid: 31, Volume ratio: 0.000075, median prob 0.05, vol*prob 0.000004\n",
      "segid: 32, Volume ratio: 0.000011, median prob 0.08, vol*prob 0.000001\n"
     ]
    }
   ],
   "source": [
    "# You can extract individual components like so:\n",
    "N = np.max(labels_out)\n",
    "criteria = 0\n",
    "for segid in range(1, N+1):\n",
    "    extracted_image = labels_out * (labels_out == segid)\n",
    "    vol = (extracted_image!=0).sum()/(extracted_image.size)\n",
    "    _,_,z=extract_spleen_coord(extracted_image,label=segid)\n",
    "    spleen_prob=np.median(axial_prob[z[0]:z[1],1])\n",
    "    metric = vol*spleen_prob\n",
    "    print('segid: {}, Volume ratio: {:.6f}, median prob {:.2f}, vol*prob {:.6f}'.format(segid,vol, spleen_prob,metric))\n",
    "    if metric>criteria:\n",
    "        print('updating criteria {:.6f}-->{:.6f} for seg_id {}'.format(criteria,metric, segid))\n",
    "        criteria=metric\n",
    "    "
   ]
  },
  {
   "cell_type": "code",
   "execution_count": 17,
   "metadata": {},
   "outputs": [
    {
     "data": {
      "text/plain": [
       "32"
      ]
     },
     "execution_count": 17,
     "metadata": {},
     "output_type": "execute_result"
    }
   ],
   "source": [
    "segid"
   ]
  },
  {
   "cell_type": "code",
   "execution_count": 42,
   "metadata": {},
   "outputs": [],
   "source": [
    "spleen_comp = labels_out*(labels_out == 2)+labels_out*(labels_out == 4)+labels_out*(labels_out == 29)"
   ]
  },
  {
   "cell_type": "code",
   "execution_count": 43,
   "metadata": {},
   "outputs": [
    {
     "data": {
      "text/plain": [
       "(29, 0)"
      ]
     },
     "execution_count": 43,
     "metadata": {},
     "output_type": "execute_result"
    }
   ],
   "source": [
    "spleen_comp.max(),spleen_comp.min()"
   ]
  },
  {
   "cell_type": "code",
   "execution_count": 44,
   "metadata": {},
   "outputs": [],
   "source": [
    "path_save = r'D:\\Data\\cs-8395-dl\\output\\assignment3\\segmentation_cc_thresh\\label{}.nii.gz'.format(file_id)"
   ]
  },
  {
   "cell_type": "code",
   "execution_count": 45,
   "metadata": {},
   "outputs": [],
   "source": [
    "label_spleen = nib.Nifti1Image(spleen_comp,label_nib.affine,label_nib.header)\n",
    "nib.save(label_spleen,path_save)"
   ]
  },
  {
   "cell_type": "code",
   "execution_count": null,
   "metadata": {},
   "outputs": [],
   "source": []
  }
 ],
 "metadata": {
  "kernelspec": {
   "display_name": "Python 3",
   "language": "python",
   "name": "python3"
  },
  "language_info": {
   "codemirror_mode": {
    "name": "ipython",
    "version": 3
   },
   "file_extension": ".py",
   "mimetype": "text/x-python",
   "name": "python",
   "nbconvert_exporter": "python",
   "pygments_lexer": "ipython3",
   "version": "3.7.0"
  }
 },
 "nbformat": 4,
 "nbformat_minor": 2
}
