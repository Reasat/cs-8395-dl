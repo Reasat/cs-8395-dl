{
 "cells": [
  {
   "cell_type": "code",
   "execution_count": 12,
   "metadata": {},
   "outputs": [],
   "source": [
    "from sklearn.model_selection import KFold\n",
    "import os\n",
    "import pickle"
   ]
  },
  {
   "cell_type": "code",
   "execution_count": 13,
   "metadata": {},
   "outputs": [],
   "source": [
    "path = r'D:/Projects/cs-8395-dl/Assignment_3_segmentation/partition/train_test_org/Training.txt'\n",
    "path_kfold=r'D:/Projects/cs-8395-dl/Assignment_3_segmentation/partition/kfold_5.bin'"
   ]
  },
  {
   "cell_type": "code",
   "execution_count": 14,
   "metadata": {},
   "outputs": [
    {
     "name": "stdout",
     "output_type": "stream",
     "text": [
      "30 ['0001', '0002', '0003', '0004', '0005', '0006', '0007', '0008', '0009', '0010', '0021', '0022', '0023', '0024', '0025', '0026', '0027', '0028', '0029', '0030', '0031', '0032', '0033', '0034', '0035', '0036', '0037', '0038', '0039', '0040']\n"
     ]
    }
   ],
   "source": [
    "with open(path, 'r') as f:\n",
    "    fl_ids = [id.strip() for id in f.readlines()]\n",
    "print(len(fl_ids),fl_ids)"
   ]
  },
  {
   "cell_type": "code",
   "execution_count": 15,
   "metadata": {},
   "outputs": [],
   "source": [
    "kf=KFold(n_splits=5, shuffle=True,random_state = 42)"
   ]
  },
  {
   "cell_type": "code",
   "execution_count": 18,
   "metadata": {},
   "outputs": [
    {
     "data": {
      "text/plain": [
       "[(array([ 0,  1,  2,  3,  4,  5,  6,  7, 10, 11, 12, 13, 14, 16, 18, 19, 20,\n",
       "         21, 22, 24, 25, 26, 28, 29]), array([ 8,  9, 15, 17, 23, 27])),\n",
       " (array([ 1,  2,  3,  5,  6,  7,  8,  9, 10, 11, 13, 14, 15, 17, 18, 19, 20,\n",
       "         21, 22, 23, 25, 26, 27, 29]), array([ 0,  4, 12, 16, 24, 28])),\n",
       " (array([ 0,  3,  4,  6,  7,  8,  9, 10, 12, 14, 15, 16, 17, 18, 19, 20, 21,\n",
       "         23, 24, 25, 26, 27, 28, 29]), array([ 1,  2,  5, 11, 13, 22])),\n",
       " (array([ 0,  1,  2,  4,  5,  6,  7,  8,  9, 10, 11, 12, 13, 14, 15, 16, 17,\n",
       "         19, 20, 22, 23, 24, 27, 28]), array([ 3, 18, 21, 25, 26, 29])),\n",
       " (array([ 0,  1,  2,  3,  4,  5,  8,  9, 11, 12, 13, 15, 16, 17, 18, 21, 22,\n",
       "         23, 24, 25, 26, 27, 28, 29]), array([ 6,  7, 10, 14, 19, 20]))]"
      ]
     },
     "execution_count": 18,
     "metadata": {},
     "output_type": "execute_result"
    }
   ],
   "source": [
    "list(kf.split(fl_ids))"
   ]
  },
  {
   "cell_type": "code",
   "execution_count": 17,
   "metadata": {},
   "outputs": [],
   "source": [
    "with open(path_kfold,'wb') as pfile:\n",
    "    pickle.dump(kf,pfile)"
   ]
  }
 ],
 "metadata": {
  "kernelspec": {
   "display_name": "Python 3",
   "language": "python",
   "name": "python3"
  },
  "language_info": {
   "codemirror_mode": {
    "name": "ipython",
    "version": 3
   },
   "file_extension": ".py",
   "mimetype": "text/x-python",
   "name": "python",
   "nbconvert_exporter": "python",
   "pygments_lexer": "ipython3",
   "version": "3.7.0"
  }
 },
 "nbformat": 4,
 "nbformat_minor": 2
}
