{
 "cells": [
  {
   "cell_type": "code",
   "execution_count": 9,
   "metadata": {},
   "outputs": [],
   "source": [
    "from metrics import dice\n",
    "import nibabel as nib\n",
    "import os\n",
    "import pickle\n",
    "import numpy as np"
   ]
  },
  {
   "cell_type": "code",
   "execution_count": 6,
   "metadata": {},
   "outputs": [],
   "source": [
    "class Args():\n",
    "    def __init__(self):\n",
    "        self.dir_project = r'..'\n",
    "        self.dir_lf = r'D:\\Data\\cs-8395-dl'\n",
    "        self.path_kfold = r'D:\\Projects\\cs-8395-dl\\Assignment_3_segmentation\\partition\\kfold_5.bin'\n",
    "        self.folderPartition = 'train_test_org'\n",
    "        self.folderData = r'assignment3\\Training'\n",
    "        self.batchSize = 12\n",
    "        self.axis = 'axial'\n",
    "        self.lossWeight = [0.3, 0.7]\n",
    "        self.load_from = r'D:/Data/cs-8395-dl/model/2020-03-23-03-22-40/2020-03-23-03-22-40_dpn68_fold-1_best.pt'\n",
    "        self.dir_output = r'D:\\Data\\cs-8395-dl\\output\\assignment3\\segmentation_cc_thresh_axial_prob_no_mask_organ'\n",
    "args = Args()"
   ]
  },
  {
   "cell_type": "code",
   "execution_count": 7,
   "metadata": {},
   "outputs": [],
   "source": [
    "dir_data = os.path.join(args.dir_lf,args.folderData) #os.path.join(DIR_LF,'assignment1_data')\n",
    "with open(os.path.join(args.dir_project,'partition',args.folderPartition,'Training.txt')) as  f:\n",
    "    file_ids_all = [id.strip() for id in f.readlines()]"
   ]
  },
  {
   "cell_type": "code",
   "execution_count": 11,
   "metadata": {},
   "outputs": [],
   "source": [
    "kf = pickle.load(open(args.path_kfold,'rb'))\n",
    "ind_train, ind_valid = list(kf.split(file_ids_all))[0]\n",
    "file_ids = np.array(file_ids_all)[ind_valid]"
   ]
  },
  {
   "cell_type": "code",
   "execution_count": 23,
   "metadata": {},
   "outputs": [
    {
     "data": {
      "text/plain": [
       "array(['0001', '0002', '0003', '0004', '0005', '0006', '0007', '0008',\n",
       "       '0021', '0022', '0023', '0024', '0025', '0027', '0029', '0030',\n",
       "       '0031', '0032', '0033', '0035', '0036', '0037', '0039', '0040'],\n",
       "      dtype='<U4')"
      ]
     },
     "execution_count": 23,
     "metadata": {},
     "output_type": "execute_result"
    }
   ],
   "source": [
    "np.array(file_ids_all)[ind_train]"
   ]
  },
  {
   "cell_type": "code",
   "execution_count": 24,
   "metadata": {},
   "outputs": [
    {
     "data": {
      "text/plain": [
       "array(['0009', '0010', '0026', '0028', '0034', '0038'], dtype='<U4')"
      ]
     },
     "execution_count": 24,
     "metadata": {},
     "output_type": "execute_result"
    }
   ],
   "source": [
    "np.array(file_ids_all)[ind_valid]"
   ]
  },
  {
   "cell_type": "code",
   "execution_count": 18,
   "metadata": {},
   "outputs": [],
   "source": [
    "dice_coeff = []\n",
    "for fl_id in file_ids:\n",
    "    path_gt = os.path.join(dir_data,'label','label{}.nii.gz'.format(fl_id))\n",
    "    gt = nib.load(path_gt).get_fdata()\n",
    "    gt[gt!=1]=0\n",
    "    path_out = os.path.join(args.dir_output,'label{}.nii.gz'.format(fl_id))\n",
    "    out = nib.load(path_out).get_fdata()\n",
    "    dice_coeff.append(dice(gt,out))"
   ]
  },
  {
   "cell_type": "code",
   "execution_count": 25,
   "metadata": {},
   "outputs": [
    {
     "name": "stdout",
     "output_type": "stream",
     "text": [
      "0009 0.69\n",
      "0010 0.90\n",
      "0026 0.96\n",
      "0028 0.96\n",
      "0034 0.97\n",
      "0038 0.94\n"
     ]
    }
   ],
   "source": [
    "for fl_id,d in zip(file_ids,dice_coeff):\n",
    "    print(fl_id,'{:.2f}'.format(d))"
   ]
  },
  {
   "cell_type": "code",
   "execution_count": 21,
   "metadata": {},
   "outputs": [
    {
     "data": {
      "text/plain": [
       "(0.9035715805289071, 0.9490568276149373, 0.09605564932382006)"
      ]
     },
     "execution_count": 21,
     "metadata": {},
     "output_type": "execute_result"
    }
   ],
   "source": [
    "np.mean(dice_coeff), np.median(dice_coeff), np.std(dice_coeff)"
   ]
  },
  {
   "cell_type": "code",
   "execution_count": null,
   "metadata": {},
   "outputs": [],
   "source": []
  }
 ],
 "metadata": {
  "kernelspec": {
   "display_name": "Python 3",
   "language": "python",
   "name": "python3"
  },
  "language_info": {
   "codemirror_mode": {
    "name": "ipython",
    "version": 3
   },
   "file_extension": ".py",
   "mimetype": "text/x-python",
   "name": "python",
   "nbconvert_exporter": "python",
   "pygments_lexer": "ipython3",
   "version": "3.7.0"
  }
 },
 "nbformat": 4,
 "nbformat_minor": 2
}
